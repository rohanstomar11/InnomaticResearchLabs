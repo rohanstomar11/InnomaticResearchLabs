{
 "cells": [
  {
   "cell_type": "markdown",
   "id": "9b3a8c91",
   "metadata": {},
   "source": [
    "# Task 2 - EDA"
   ]
  },
  {
   "cell_type": "code",
   "execution_count": 1,
   "id": "d7ac76d1",
   "metadata": {},
   "outputs": [
    {
     "name": "stdout",
     "output_type": "stream",
     "text": [
      "Modules Imported Successfully!\n"
     ]
    }
   ],
   "source": [
    "#Importing required basic modules\n",
    "import numpy as np\n",
    "import pandas as pd\n",
    "import matplotlib.pyplot as plt\n",
    "import seaborn as sns\n",
    "import warnings\n",
    "%matplotlib inline\n",
    "warnings.filterwarnings('ignore')\n",
    "\n",
    "print(\"Modules Imported Successfully!\")"
   ]
  },
  {
   "cell_type": "code",
   "execution_count": 2,
   "id": "1931c0d5",
   "metadata": {},
   "outputs": [],
   "source": [
    "#Importing libraries as required\n",
    "from datetime import date"
   ]
  },
  {
   "cell_type": "code",
   "execution_count": 3,
   "id": "c999bf73",
   "metadata": {},
   "outputs": [
    {
     "name": "stdout",
     "output_type": "stream",
     "text": [
      "Dataset Loaded Successfully\n"
     ]
    }
   ],
   "source": [
    "df = pd.read_excel('aspiring_minds_employability_outcomes_2015.xlsx')\n",
    "\n",
    "print('Dataset Loaded Successfully')"
   ]
  },
  {
   "cell_type": "markdown",
   "id": "02b2658c",
   "metadata": {},
   "source": [
    "## Dataset Description"
   ]
  },
  {
   "cell_type": "markdown",
   "id": "6df27fea",
   "metadata": {},
   "source": [
    "This dataset was released by Aspiring Minds from the Aspiring Mind Employment Outcome(AMEO, 2015).  \n",
    "The study is primarily limited only to students with engineering disciplines.  \n",
    "The dataset contains the employment outcomes of engineering graduates as dependent variables (Salary, Job Titles, and Job Locations) along with the standardized scores from three different areas – cognitive skills, technical skills, and personality skills.  \n",
    "The dataset also contains demographic features.  \n",
    "The dataset contains around  40 independent variables and 4000 data points.  \n",
    "The independent variables are both continuous and categorical.  \n",
    "The dataset contains a unique identifier for each candidate."
   ]
  },
  {
   "cell_type": "code",
   "execution_count": 4,
   "id": "111297de",
   "metadata": {},
   "outputs": [
    {
     "data": {
      "text/plain": [
       "(3998, 39)"
      ]
     },
     "execution_count": 4,
     "metadata": {},
     "output_type": "execute_result"
    }
   ],
   "source": [
    "df.shape"
   ]
  },
  {
   "cell_type": "code",
   "execution_count": 5,
   "id": "4a2d6468",
   "metadata": {},
   "outputs": [
    {
     "data": {
      "text/plain": [
       "Index(['Unnamed: 0', 'ID', 'Salary', 'DOJ', 'DOL', 'Designation', 'JobCity',\n",
       "       'Gender', 'DOB', '10percentage', '10board', '12graduation',\n",
       "       '12percentage', '12board', 'CollegeID', 'CollegeTier', 'Degree',\n",
       "       'Specialization', 'collegeGPA', 'CollegeCityID', 'CollegeCityTier',\n",
       "       'CollegeState', 'GraduationYear', 'English', 'Logical', 'Quant',\n",
       "       'Domain', 'ComputerProgramming', 'ElectronicsAndSemicon',\n",
       "       'ComputerScience', 'MechanicalEngg', 'ElectricalEngg', 'TelecomEngg',\n",
       "       'CivilEngg', 'conscientiousness', 'agreeableness', 'extraversion',\n",
       "       'nueroticism', 'openess_to_experience'],\n",
       "      dtype='object')"
      ]
     },
     "execution_count": 5,
     "metadata": {},
     "output_type": "execute_result"
    }
   ],
   "source": [
    "df.columns"
   ]
  },
  {
   "cell_type": "code",
   "execution_count": 6,
   "id": "5114c2a4",
   "metadata": {},
   "outputs": [],
   "source": [
    "pd.set_option('display.max_columns', None)"
   ]
  },
  {
   "cell_type": "code",
   "execution_count": 7,
   "id": "eb958272",
   "metadata": {},
   "outputs": [
    {
     "data": {
      "text/html": [
       "<div>\n",
       "<style scoped>\n",
       "    .dataframe tbody tr th:only-of-type {\n",
       "        vertical-align: middle;\n",
       "    }\n",
       "\n",
       "    .dataframe tbody tr th {\n",
       "        vertical-align: top;\n",
       "    }\n",
       "\n",
       "    .dataframe thead th {\n",
       "        text-align: right;\n",
       "    }\n",
       "</style>\n",
       "<table border=\"1\" class=\"dataframe\">\n",
       "  <thead>\n",
       "    <tr style=\"text-align: right;\">\n",
       "      <th></th>\n",
       "      <th>Unnamed: 0</th>\n",
       "      <th>ID</th>\n",
       "      <th>Salary</th>\n",
       "      <th>DOJ</th>\n",
       "      <th>DOL</th>\n",
       "      <th>Designation</th>\n",
       "      <th>JobCity</th>\n",
       "      <th>Gender</th>\n",
       "      <th>DOB</th>\n",
       "      <th>10percentage</th>\n",
       "      <th>10board</th>\n",
       "      <th>12graduation</th>\n",
       "      <th>12percentage</th>\n",
       "      <th>12board</th>\n",
       "      <th>CollegeID</th>\n",
       "      <th>CollegeTier</th>\n",
       "      <th>Degree</th>\n",
       "      <th>Specialization</th>\n",
       "      <th>collegeGPA</th>\n",
       "      <th>CollegeCityID</th>\n",
       "      <th>CollegeCityTier</th>\n",
       "      <th>CollegeState</th>\n",
       "      <th>GraduationYear</th>\n",
       "      <th>English</th>\n",
       "      <th>Logical</th>\n",
       "      <th>Quant</th>\n",
       "      <th>Domain</th>\n",
       "      <th>ComputerProgramming</th>\n",
       "      <th>ElectronicsAndSemicon</th>\n",
       "      <th>ComputerScience</th>\n",
       "      <th>MechanicalEngg</th>\n",
       "      <th>ElectricalEngg</th>\n",
       "      <th>TelecomEngg</th>\n",
       "      <th>CivilEngg</th>\n",
       "      <th>conscientiousness</th>\n",
       "      <th>agreeableness</th>\n",
       "      <th>extraversion</th>\n",
       "      <th>nueroticism</th>\n",
       "      <th>openess_to_experience</th>\n",
       "    </tr>\n",
       "  </thead>\n",
       "  <tbody>\n",
       "    <tr>\n",
       "      <th>0</th>\n",
       "      <td>train</td>\n",
       "      <td>203097</td>\n",
       "      <td>420000</td>\n",
       "      <td>2012-06-01</td>\n",
       "      <td>present</td>\n",
       "      <td>senior quality engineer</td>\n",
       "      <td>Bangalore</td>\n",
       "      <td>f</td>\n",
       "      <td>1990-02-19</td>\n",
       "      <td>84.3</td>\n",
       "      <td>board ofsecondary education,ap</td>\n",
       "      <td>2007</td>\n",
       "      <td>95.8</td>\n",
       "      <td>board of intermediate education,ap</td>\n",
       "      <td>1141</td>\n",
       "      <td>2</td>\n",
       "      <td>B.Tech/B.E.</td>\n",
       "      <td>computer engineering</td>\n",
       "      <td>78.00</td>\n",
       "      <td>1141</td>\n",
       "      <td>0</td>\n",
       "      <td>Andhra Pradesh</td>\n",
       "      <td>2011</td>\n",
       "      <td>515</td>\n",
       "      <td>585</td>\n",
       "      <td>525</td>\n",
       "      <td>0.635979</td>\n",
       "      <td>445</td>\n",
       "      <td>-1</td>\n",
       "      <td>-1</td>\n",
       "      <td>-1</td>\n",
       "      <td>-1</td>\n",
       "      <td>-1</td>\n",
       "      <td>-1</td>\n",
       "      <td>0.9737</td>\n",
       "      <td>0.8128</td>\n",
       "      <td>0.5269</td>\n",
       "      <td>1.35490</td>\n",
       "      <td>-0.4455</td>\n",
       "    </tr>\n",
       "    <tr>\n",
       "      <th>1</th>\n",
       "      <td>train</td>\n",
       "      <td>579905</td>\n",
       "      <td>500000</td>\n",
       "      <td>2013-09-01</td>\n",
       "      <td>present</td>\n",
       "      <td>assistant manager</td>\n",
       "      <td>Indore</td>\n",
       "      <td>m</td>\n",
       "      <td>1989-10-04</td>\n",
       "      <td>85.4</td>\n",
       "      <td>cbse</td>\n",
       "      <td>2007</td>\n",
       "      <td>85.0</td>\n",
       "      <td>cbse</td>\n",
       "      <td>5807</td>\n",
       "      <td>2</td>\n",
       "      <td>B.Tech/B.E.</td>\n",
       "      <td>electronics and communication engineering</td>\n",
       "      <td>70.06</td>\n",
       "      <td>5807</td>\n",
       "      <td>0</td>\n",
       "      <td>Madhya Pradesh</td>\n",
       "      <td>2012</td>\n",
       "      <td>695</td>\n",
       "      <td>610</td>\n",
       "      <td>780</td>\n",
       "      <td>0.960603</td>\n",
       "      <td>-1</td>\n",
       "      <td>466</td>\n",
       "      <td>-1</td>\n",
       "      <td>-1</td>\n",
       "      <td>-1</td>\n",
       "      <td>-1</td>\n",
       "      <td>-1</td>\n",
       "      <td>-0.7335</td>\n",
       "      <td>0.3789</td>\n",
       "      <td>1.2396</td>\n",
       "      <td>-0.10760</td>\n",
       "      <td>0.8637</td>\n",
       "    </tr>\n",
       "    <tr>\n",
       "      <th>2</th>\n",
       "      <td>train</td>\n",
       "      <td>810601</td>\n",
       "      <td>325000</td>\n",
       "      <td>2014-06-01</td>\n",
       "      <td>present</td>\n",
       "      <td>systems engineer</td>\n",
       "      <td>Chennai</td>\n",
       "      <td>f</td>\n",
       "      <td>1992-08-03</td>\n",
       "      <td>85.0</td>\n",
       "      <td>cbse</td>\n",
       "      <td>2010</td>\n",
       "      <td>68.2</td>\n",
       "      <td>cbse</td>\n",
       "      <td>64</td>\n",
       "      <td>2</td>\n",
       "      <td>B.Tech/B.E.</td>\n",
       "      <td>information technology</td>\n",
       "      <td>70.00</td>\n",
       "      <td>64</td>\n",
       "      <td>0</td>\n",
       "      <td>Uttar Pradesh</td>\n",
       "      <td>2014</td>\n",
       "      <td>615</td>\n",
       "      <td>545</td>\n",
       "      <td>370</td>\n",
       "      <td>0.450877</td>\n",
       "      <td>395</td>\n",
       "      <td>-1</td>\n",
       "      <td>-1</td>\n",
       "      <td>-1</td>\n",
       "      <td>-1</td>\n",
       "      <td>-1</td>\n",
       "      <td>-1</td>\n",
       "      <td>0.2718</td>\n",
       "      <td>1.7109</td>\n",
       "      <td>0.1637</td>\n",
       "      <td>-0.86820</td>\n",
       "      <td>0.6721</td>\n",
       "    </tr>\n",
       "    <tr>\n",
       "      <th>3</th>\n",
       "      <td>train</td>\n",
       "      <td>267447</td>\n",
       "      <td>1100000</td>\n",
       "      <td>2011-07-01</td>\n",
       "      <td>present</td>\n",
       "      <td>senior software engineer</td>\n",
       "      <td>Gurgaon</td>\n",
       "      <td>m</td>\n",
       "      <td>1989-12-05</td>\n",
       "      <td>85.6</td>\n",
       "      <td>cbse</td>\n",
       "      <td>2007</td>\n",
       "      <td>83.6</td>\n",
       "      <td>cbse</td>\n",
       "      <td>6920</td>\n",
       "      <td>1</td>\n",
       "      <td>B.Tech/B.E.</td>\n",
       "      <td>computer engineering</td>\n",
       "      <td>74.64</td>\n",
       "      <td>6920</td>\n",
       "      <td>1</td>\n",
       "      <td>Delhi</td>\n",
       "      <td>2011</td>\n",
       "      <td>635</td>\n",
       "      <td>585</td>\n",
       "      <td>625</td>\n",
       "      <td>0.974396</td>\n",
       "      <td>615</td>\n",
       "      <td>-1</td>\n",
       "      <td>-1</td>\n",
       "      <td>-1</td>\n",
       "      <td>-1</td>\n",
       "      <td>-1</td>\n",
       "      <td>-1</td>\n",
       "      <td>0.0464</td>\n",
       "      <td>0.3448</td>\n",
       "      <td>-0.3440</td>\n",
       "      <td>-0.40780</td>\n",
       "      <td>-0.9194</td>\n",
       "    </tr>\n",
       "    <tr>\n",
       "      <th>4</th>\n",
       "      <td>train</td>\n",
       "      <td>343523</td>\n",
       "      <td>200000</td>\n",
       "      <td>2014-03-01</td>\n",
       "      <td>2015-03-01 00:00:00</td>\n",
       "      <td>get</td>\n",
       "      <td>Manesar</td>\n",
       "      <td>m</td>\n",
       "      <td>1991-02-27</td>\n",
       "      <td>78.0</td>\n",
       "      <td>cbse</td>\n",
       "      <td>2008</td>\n",
       "      <td>76.8</td>\n",
       "      <td>cbse</td>\n",
       "      <td>11368</td>\n",
       "      <td>2</td>\n",
       "      <td>B.Tech/B.E.</td>\n",
       "      <td>electronics and communication engineering</td>\n",
       "      <td>73.90</td>\n",
       "      <td>11368</td>\n",
       "      <td>0</td>\n",
       "      <td>Uttar Pradesh</td>\n",
       "      <td>2012</td>\n",
       "      <td>545</td>\n",
       "      <td>625</td>\n",
       "      <td>465</td>\n",
       "      <td>0.124502</td>\n",
       "      <td>-1</td>\n",
       "      <td>233</td>\n",
       "      <td>-1</td>\n",
       "      <td>-1</td>\n",
       "      <td>-1</td>\n",
       "      <td>-1</td>\n",
       "      <td>-1</td>\n",
       "      <td>-0.8810</td>\n",
       "      <td>-0.2793</td>\n",
       "      <td>-1.0697</td>\n",
       "      <td>0.09163</td>\n",
       "      <td>-0.1295</td>\n",
       "    </tr>\n",
       "  </tbody>\n",
       "</table>\n",
       "</div>"
      ],
      "text/plain": [
       "  Unnamed: 0      ID   Salary        DOJ                  DOL  \\\n",
       "0      train  203097   420000 2012-06-01              present   \n",
       "1      train  579905   500000 2013-09-01              present   \n",
       "2      train  810601   325000 2014-06-01              present   \n",
       "3      train  267447  1100000 2011-07-01              present   \n",
       "4      train  343523   200000 2014-03-01  2015-03-01 00:00:00   \n",
       "\n",
       "                Designation    JobCity Gender        DOB  10percentage  \\\n",
       "0   senior quality engineer  Bangalore      f 1990-02-19          84.3   \n",
       "1         assistant manager     Indore      m 1989-10-04          85.4   \n",
       "2          systems engineer    Chennai      f 1992-08-03          85.0   \n",
       "3  senior software engineer    Gurgaon      m 1989-12-05          85.6   \n",
       "4                       get    Manesar      m 1991-02-27          78.0   \n",
       "\n",
       "                          10board  12graduation  12percentage  \\\n",
       "0  board ofsecondary education,ap          2007          95.8   \n",
       "1                            cbse          2007          85.0   \n",
       "2                            cbse          2010          68.2   \n",
       "3                            cbse          2007          83.6   \n",
       "4                            cbse          2008          76.8   \n",
       "\n",
       "                              12board  CollegeID  CollegeTier       Degree  \\\n",
       "0  board of intermediate education,ap       1141            2  B.Tech/B.E.   \n",
       "1                                cbse       5807            2  B.Tech/B.E.   \n",
       "2                                cbse         64            2  B.Tech/B.E.   \n",
       "3                                cbse       6920            1  B.Tech/B.E.   \n",
       "4                                cbse      11368            2  B.Tech/B.E.   \n",
       "\n",
       "                              Specialization  collegeGPA  CollegeCityID  \\\n",
       "0                       computer engineering       78.00           1141   \n",
       "1  electronics and communication engineering       70.06           5807   \n",
       "2                     information technology       70.00             64   \n",
       "3                       computer engineering       74.64           6920   \n",
       "4  electronics and communication engineering       73.90          11368   \n",
       "\n",
       "   CollegeCityTier    CollegeState  GraduationYear  English  Logical  Quant  \\\n",
       "0                0  Andhra Pradesh            2011      515      585    525   \n",
       "1                0  Madhya Pradesh            2012      695      610    780   \n",
       "2                0   Uttar Pradesh            2014      615      545    370   \n",
       "3                1           Delhi            2011      635      585    625   \n",
       "4                0   Uttar Pradesh            2012      545      625    465   \n",
       "\n",
       "     Domain  ComputerProgramming  ElectronicsAndSemicon  ComputerScience  \\\n",
       "0  0.635979                  445                     -1               -1   \n",
       "1  0.960603                   -1                    466               -1   \n",
       "2  0.450877                  395                     -1               -1   \n",
       "3  0.974396                  615                     -1               -1   \n",
       "4  0.124502                   -1                    233               -1   \n",
       "\n",
       "   MechanicalEngg  ElectricalEngg  TelecomEngg  CivilEngg  conscientiousness  \\\n",
       "0              -1              -1           -1         -1             0.9737   \n",
       "1              -1              -1           -1         -1            -0.7335   \n",
       "2              -1              -1           -1         -1             0.2718   \n",
       "3              -1              -1           -1         -1             0.0464   \n",
       "4              -1              -1           -1         -1            -0.8810   \n",
       "\n",
       "   agreeableness  extraversion  nueroticism  openess_to_experience  \n",
       "0         0.8128        0.5269      1.35490                -0.4455  \n",
       "1         0.3789        1.2396     -0.10760                 0.8637  \n",
       "2         1.7109        0.1637     -0.86820                 0.6721  \n",
       "3         0.3448       -0.3440     -0.40780                -0.9194  \n",
       "4        -0.2793       -1.0697      0.09163                -0.1295  "
      ]
     },
     "execution_count": 7,
     "metadata": {},
     "output_type": "execute_result"
    }
   ],
   "source": [
    "df.head()"
   ]
  },
  {
   "cell_type": "code",
   "execution_count": 8,
   "id": "0344fe6a",
   "metadata": {
    "scrolled": true
   },
   "outputs": [
    {
     "data": {
      "text/html": [
       "<div>\n",
       "<style scoped>\n",
       "    .dataframe tbody tr th:only-of-type {\n",
       "        vertical-align: middle;\n",
       "    }\n",
       "\n",
       "    .dataframe tbody tr th {\n",
       "        vertical-align: top;\n",
       "    }\n",
       "\n",
       "    .dataframe thead th {\n",
       "        text-align: right;\n",
       "    }\n",
       "</style>\n",
       "<table border=\"1\" class=\"dataframe\">\n",
       "  <thead>\n",
       "    <tr style=\"text-align: right;\">\n",
       "      <th></th>\n",
       "      <th>Unnamed: 0</th>\n",
       "      <th>ID</th>\n",
       "      <th>Salary</th>\n",
       "      <th>DOJ</th>\n",
       "      <th>DOL</th>\n",
       "      <th>Designation</th>\n",
       "      <th>JobCity</th>\n",
       "      <th>Gender</th>\n",
       "      <th>DOB</th>\n",
       "      <th>10percentage</th>\n",
       "      <th>10board</th>\n",
       "      <th>12graduation</th>\n",
       "      <th>12percentage</th>\n",
       "      <th>12board</th>\n",
       "      <th>CollegeID</th>\n",
       "      <th>CollegeTier</th>\n",
       "      <th>Degree</th>\n",
       "      <th>Specialization</th>\n",
       "      <th>collegeGPA</th>\n",
       "      <th>CollegeCityID</th>\n",
       "      <th>CollegeCityTier</th>\n",
       "      <th>CollegeState</th>\n",
       "      <th>GraduationYear</th>\n",
       "      <th>English</th>\n",
       "      <th>Logical</th>\n",
       "      <th>Quant</th>\n",
       "      <th>Domain</th>\n",
       "      <th>ComputerProgramming</th>\n",
       "      <th>ElectronicsAndSemicon</th>\n",
       "      <th>ComputerScience</th>\n",
       "      <th>MechanicalEngg</th>\n",
       "      <th>ElectricalEngg</th>\n",
       "      <th>TelecomEngg</th>\n",
       "      <th>CivilEngg</th>\n",
       "      <th>conscientiousness</th>\n",
       "      <th>agreeableness</th>\n",
       "      <th>extraversion</th>\n",
       "      <th>nueroticism</th>\n",
       "      <th>openess_to_experience</th>\n",
       "    </tr>\n",
       "  </thead>\n",
       "  <tbody>\n",
       "    <tr>\n",
       "      <th>3993</th>\n",
       "      <td>train</td>\n",
       "      <td>47916</td>\n",
       "      <td>280000</td>\n",
       "      <td>2011-10-01</td>\n",
       "      <td>2012-10-01 00:00:00</td>\n",
       "      <td>software engineer</td>\n",
       "      <td>New Delhi</td>\n",
       "      <td>m</td>\n",
       "      <td>1987-04-15</td>\n",
       "      <td>52.09</td>\n",
       "      <td>cbse</td>\n",
       "      <td>2006</td>\n",
       "      <td>55.50</td>\n",
       "      <td>cbse</td>\n",
       "      <td>6268</td>\n",
       "      <td>2</td>\n",
       "      <td>B.Tech/B.E.</td>\n",
       "      <td>information technology</td>\n",
       "      <td>61.50</td>\n",
       "      <td>6268</td>\n",
       "      <td>0</td>\n",
       "      <td>Haryana</td>\n",
       "      <td>2010</td>\n",
       "      <td>365</td>\n",
       "      <td>334</td>\n",
       "      <td>475</td>\n",
       "      <td>0.276047</td>\n",
       "      <td>345</td>\n",
       "      <td>-1</td>\n",
       "      <td>-1</td>\n",
       "      <td>-1</td>\n",
       "      <td>-1</td>\n",
       "      <td>-1</td>\n",
       "      <td>-1</td>\n",
       "      <td>-0.1082</td>\n",
       "      <td>0.3448</td>\n",
       "      <td>0.2366</td>\n",
       "      <td>0.64980</td>\n",
       "      <td>-0.9194</td>\n",
       "    </tr>\n",
       "    <tr>\n",
       "      <th>3994</th>\n",
       "      <td>train</td>\n",
       "      <td>752781</td>\n",
       "      <td>100000</td>\n",
       "      <td>2013-07-01</td>\n",
       "      <td>2013-07-01 00:00:00</td>\n",
       "      <td>technical writer</td>\n",
       "      <td>Hyderabad</td>\n",
       "      <td>f</td>\n",
       "      <td>1992-08-27</td>\n",
       "      <td>90.00</td>\n",
       "      <td>state board</td>\n",
       "      <td>2009</td>\n",
       "      <td>93.00</td>\n",
       "      <td>state board</td>\n",
       "      <td>4883</td>\n",
       "      <td>2</td>\n",
       "      <td>B.Tech/B.E.</td>\n",
       "      <td>electronics and communication engineering</td>\n",
       "      <td>77.30</td>\n",
       "      <td>4883</td>\n",
       "      <td>1</td>\n",
       "      <td>Telangana</td>\n",
       "      <td>2013</td>\n",
       "      <td>415</td>\n",
       "      <td>410</td>\n",
       "      <td>535</td>\n",
       "      <td>0.881620</td>\n",
       "      <td>325</td>\n",
       "      <td>420</td>\n",
       "      <td>-1</td>\n",
       "      <td>-1</td>\n",
       "      <td>-1</td>\n",
       "      <td>-1</td>\n",
       "      <td>-1</td>\n",
       "      <td>-0.3027</td>\n",
       "      <td>0.8784</td>\n",
       "      <td>0.9322</td>\n",
       "      <td>0.77980</td>\n",
       "      <td>-0.0943</td>\n",
       "    </tr>\n",
       "    <tr>\n",
       "      <th>3995</th>\n",
       "      <td>train</td>\n",
       "      <td>355888</td>\n",
       "      <td>320000</td>\n",
       "      <td>2013-07-01</td>\n",
       "      <td>present</td>\n",
       "      <td>associate software engineer</td>\n",
       "      <td>Bangalore</td>\n",
       "      <td>m</td>\n",
       "      <td>1991-07-03</td>\n",
       "      <td>81.86</td>\n",
       "      <td>bse,odisha</td>\n",
       "      <td>2008</td>\n",
       "      <td>65.50</td>\n",
       "      <td>chse,odisha</td>\n",
       "      <td>9786</td>\n",
       "      <td>2</td>\n",
       "      <td>B.Tech/B.E.</td>\n",
       "      <td>computer engineering</td>\n",
       "      <td>70.00</td>\n",
       "      <td>9786</td>\n",
       "      <td>0</td>\n",
       "      <td>Orissa</td>\n",
       "      <td>2012</td>\n",
       "      <td>475</td>\n",
       "      <td>475</td>\n",
       "      <td>465</td>\n",
       "      <td>0.488348</td>\n",
       "      <td>405</td>\n",
       "      <td>-1</td>\n",
       "      <td>-1</td>\n",
       "      <td>-1</td>\n",
       "      <td>-1</td>\n",
       "      <td>-1</td>\n",
       "      <td>-1</td>\n",
       "      <td>-1.5765</td>\n",
       "      <td>-1.5273</td>\n",
       "      <td>-1.5051</td>\n",
       "      <td>-1.31840</td>\n",
       "      <td>-0.7615</td>\n",
       "    </tr>\n",
       "    <tr>\n",
       "      <th>3996</th>\n",
       "      <td>train</td>\n",
       "      <td>947111</td>\n",
       "      <td>200000</td>\n",
       "      <td>2014-07-01</td>\n",
       "      <td>2015-01-01 00:00:00</td>\n",
       "      <td>software developer</td>\n",
       "      <td>Asifabadbanglore</td>\n",
       "      <td>f</td>\n",
       "      <td>1992-03-20</td>\n",
       "      <td>78.72</td>\n",
       "      <td>state board</td>\n",
       "      <td>2010</td>\n",
       "      <td>69.88</td>\n",
       "      <td>state board</td>\n",
       "      <td>979</td>\n",
       "      <td>2</td>\n",
       "      <td>B.Tech/B.E.</td>\n",
       "      <td>computer science &amp; engineering</td>\n",
       "      <td>70.42</td>\n",
       "      <td>979</td>\n",
       "      <td>1</td>\n",
       "      <td>Karnataka</td>\n",
       "      <td>2014</td>\n",
       "      <td>450</td>\n",
       "      <td>410</td>\n",
       "      <td>320</td>\n",
       "      <td>0.744758</td>\n",
       "      <td>445</td>\n",
       "      <td>-1</td>\n",
       "      <td>438</td>\n",
       "      <td>-1</td>\n",
       "      <td>-1</td>\n",
       "      <td>-1</td>\n",
       "      <td>-1</td>\n",
       "      <td>-0.1590</td>\n",
       "      <td>0.0459</td>\n",
       "      <td>-0.4511</td>\n",
       "      <td>-0.36120</td>\n",
       "      <td>-0.0943</td>\n",
       "    </tr>\n",
       "    <tr>\n",
       "      <th>3997</th>\n",
       "      <td>train</td>\n",
       "      <td>324966</td>\n",
       "      <td>400000</td>\n",
       "      <td>2013-02-01</td>\n",
       "      <td>present</td>\n",
       "      <td>senior systems engineer</td>\n",
       "      <td>Chennai</td>\n",
       "      <td>f</td>\n",
       "      <td>1991-02-26</td>\n",
       "      <td>70.60</td>\n",
       "      <td>cbse</td>\n",
       "      <td>2008</td>\n",
       "      <td>68.00</td>\n",
       "      <td>cbse</td>\n",
       "      <td>6609</td>\n",
       "      <td>2</td>\n",
       "      <td>B.Tech/B.E.</td>\n",
       "      <td>information technology</td>\n",
       "      <td>68.00</td>\n",
       "      <td>6609</td>\n",
       "      <td>1</td>\n",
       "      <td>Tamil Nadu</td>\n",
       "      <td>2012</td>\n",
       "      <td>565</td>\n",
       "      <td>515</td>\n",
       "      <td>464</td>\n",
       "      <td>0.600057</td>\n",
       "      <td>435</td>\n",
       "      <td>-1</td>\n",
       "      <td>-1</td>\n",
       "      <td>-1</td>\n",
       "      <td>-1</td>\n",
       "      <td>-1</td>\n",
       "      <td>-1</td>\n",
       "      <td>-1.1128</td>\n",
       "      <td>-0.2793</td>\n",
       "      <td>-0.6343</td>\n",
       "      <td>1.32553</td>\n",
       "      <td>-0.6035</td>\n",
       "    </tr>\n",
       "  </tbody>\n",
       "</table>\n",
       "</div>"
      ],
      "text/plain": [
       "     Unnamed: 0      ID  Salary        DOJ                  DOL  \\\n",
       "3993      train   47916  280000 2011-10-01  2012-10-01 00:00:00   \n",
       "3994      train  752781  100000 2013-07-01  2013-07-01 00:00:00   \n",
       "3995      train  355888  320000 2013-07-01              present   \n",
       "3996      train  947111  200000 2014-07-01  2015-01-01 00:00:00   \n",
       "3997      train  324966  400000 2013-02-01              present   \n",
       "\n",
       "                      Designation           JobCity Gender        DOB  \\\n",
       "3993            software engineer        New Delhi       m 1987-04-15   \n",
       "3994             technical writer         Hyderabad      f 1992-08-27   \n",
       "3995  associate software engineer         Bangalore      m 1991-07-03   \n",
       "3996           software developer  Asifabadbanglore      f 1992-03-20   \n",
       "3997      senior systems engineer           Chennai      f 1991-02-26   \n",
       "\n",
       "      10percentage      10board  12graduation  12percentage      12board  \\\n",
       "3993         52.09         cbse          2006         55.50         cbse   \n",
       "3994         90.00  state board          2009         93.00  state board   \n",
       "3995         81.86   bse,odisha          2008         65.50  chse,odisha   \n",
       "3996         78.72  state board          2010         69.88  state board   \n",
       "3997         70.60         cbse          2008         68.00         cbse   \n",
       "\n",
       "      CollegeID  CollegeTier       Degree  \\\n",
       "3993       6268            2  B.Tech/B.E.   \n",
       "3994       4883            2  B.Tech/B.E.   \n",
       "3995       9786            2  B.Tech/B.E.   \n",
       "3996        979            2  B.Tech/B.E.   \n",
       "3997       6609            2  B.Tech/B.E.   \n",
       "\n",
       "                                 Specialization  collegeGPA  CollegeCityID  \\\n",
       "3993                     information technology       61.50           6268   \n",
       "3994  electronics and communication engineering       77.30           4883   \n",
       "3995                       computer engineering       70.00           9786   \n",
       "3996             computer science & engineering       70.42            979   \n",
       "3997                     information technology       68.00           6609   \n",
       "\n",
       "      CollegeCityTier CollegeState  GraduationYear  English  Logical  Quant  \\\n",
       "3993                0      Haryana            2010      365      334    475   \n",
       "3994                1    Telangana            2013      415      410    535   \n",
       "3995                0       Orissa            2012      475      475    465   \n",
       "3996                1    Karnataka            2014      450      410    320   \n",
       "3997                1   Tamil Nadu            2012      565      515    464   \n",
       "\n",
       "        Domain  ComputerProgramming  ElectronicsAndSemicon  ComputerScience  \\\n",
       "3993  0.276047                  345                     -1               -1   \n",
       "3994  0.881620                  325                    420               -1   \n",
       "3995  0.488348                  405                     -1               -1   \n",
       "3996  0.744758                  445                     -1              438   \n",
       "3997  0.600057                  435                     -1               -1   \n",
       "\n",
       "      MechanicalEngg  ElectricalEngg  TelecomEngg  CivilEngg  \\\n",
       "3993              -1              -1           -1         -1   \n",
       "3994              -1              -1           -1         -1   \n",
       "3995              -1              -1           -1         -1   \n",
       "3996              -1              -1           -1         -1   \n",
       "3997              -1              -1           -1         -1   \n",
       "\n",
       "      conscientiousness  agreeableness  extraversion  nueroticism  \\\n",
       "3993            -0.1082         0.3448        0.2366      0.64980   \n",
       "3994            -0.3027         0.8784        0.9322      0.77980   \n",
       "3995            -1.5765        -1.5273       -1.5051     -1.31840   \n",
       "3996            -0.1590         0.0459       -0.4511     -0.36120   \n",
       "3997            -1.1128        -0.2793       -0.6343      1.32553   \n",
       "\n",
       "      openess_to_experience  \n",
       "3993                -0.9194  \n",
       "3994                -0.0943  \n",
       "3995                -0.7615  \n",
       "3996                -0.0943  \n",
       "3997                -0.6035  "
      ]
     },
     "execution_count": 8,
     "metadata": {},
     "output_type": "execute_result"
    }
   ],
   "source": [
    "df.tail()"
   ]
  },
  {
   "cell_type": "code",
   "execution_count": 9,
   "id": "19540d3a",
   "metadata": {},
   "outputs": [
    {
     "name": "stdout",
     "output_type": "stream",
     "text": [
      "<class 'pandas.core.frame.DataFrame'>\n",
      "RangeIndex: 3998 entries, 0 to 3997\n",
      "Data columns (total 39 columns):\n",
      " #   Column                 Non-Null Count  Dtype         \n",
      "---  ------                 --------------  -----         \n",
      " 0   Unnamed: 0             3998 non-null   object        \n",
      " 1   ID                     3998 non-null   int64         \n",
      " 2   Salary                 3998 non-null   int64         \n",
      " 3   DOJ                    3998 non-null   datetime64[ns]\n",
      " 4   DOL                    3998 non-null   object        \n",
      " 5   Designation            3998 non-null   object        \n",
      " 6   JobCity                3998 non-null   object        \n",
      " 7   Gender                 3998 non-null   object        \n",
      " 8   DOB                    3998 non-null   datetime64[ns]\n",
      " 9   10percentage           3998 non-null   float64       \n",
      " 10  10board                3998 non-null   object        \n",
      " 11  12graduation           3998 non-null   int64         \n",
      " 12  12percentage           3998 non-null   float64       \n",
      " 13  12board                3998 non-null   object        \n",
      " 14  CollegeID              3998 non-null   int64         \n",
      " 15  CollegeTier            3998 non-null   int64         \n",
      " 16  Degree                 3998 non-null   object        \n",
      " 17  Specialization         3998 non-null   object        \n",
      " 18  collegeGPA             3998 non-null   float64       \n",
      " 19  CollegeCityID          3998 non-null   int64         \n",
      " 20  CollegeCityTier        3998 non-null   int64         \n",
      " 21  CollegeState           3998 non-null   object        \n",
      " 22  GraduationYear         3998 non-null   int64         \n",
      " 23  English                3998 non-null   int64         \n",
      " 24  Logical                3998 non-null   int64         \n",
      " 25  Quant                  3998 non-null   int64         \n",
      " 26  Domain                 3998 non-null   float64       \n",
      " 27  ComputerProgramming    3998 non-null   int64         \n",
      " 28  ElectronicsAndSemicon  3998 non-null   int64         \n",
      " 29  ComputerScience        3998 non-null   int64         \n",
      " 30  MechanicalEngg         3998 non-null   int64         \n",
      " 31  ElectricalEngg         3998 non-null   int64         \n",
      " 32  TelecomEngg            3998 non-null   int64         \n",
      " 33  CivilEngg              3998 non-null   int64         \n",
      " 34  conscientiousness      3998 non-null   float64       \n",
      " 35  agreeableness          3998 non-null   float64       \n",
      " 36  extraversion           3998 non-null   float64       \n",
      " 37  nueroticism            3998 non-null   float64       \n",
      " 38  openess_to_experience  3998 non-null   float64       \n",
      "dtypes: datetime64[ns](2), float64(9), int64(18), object(10)\n",
      "memory usage: 1.2+ MB\n"
     ]
    }
   ],
   "source": [
    "df.info()"
   ]
  },
  {
   "cell_type": "code",
   "execution_count": 10,
   "id": "1a92eefa",
   "metadata": {},
   "outputs": [
    {
     "data": {
      "text/html": [
       "<div>\n",
       "<style scoped>\n",
       "    .dataframe tbody tr th:only-of-type {\n",
       "        vertical-align: middle;\n",
       "    }\n",
       "\n",
       "    .dataframe tbody tr th {\n",
       "        vertical-align: top;\n",
       "    }\n",
       "\n",
       "    .dataframe thead th {\n",
       "        text-align: right;\n",
       "    }\n",
       "</style>\n",
       "<table border=\"1\" class=\"dataframe\">\n",
       "  <thead>\n",
       "    <tr style=\"text-align: right;\">\n",
       "      <th></th>\n",
       "      <th>ID</th>\n",
       "      <th>Salary</th>\n",
       "      <th>10percentage</th>\n",
       "      <th>12graduation</th>\n",
       "      <th>12percentage</th>\n",
       "      <th>CollegeID</th>\n",
       "      <th>CollegeTier</th>\n",
       "      <th>collegeGPA</th>\n",
       "      <th>CollegeCityID</th>\n",
       "      <th>CollegeCityTier</th>\n",
       "      <th>GraduationYear</th>\n",
       "      <th>English</th>\n",
       "      <th>Logical</th>\n",
       "      <th>Quant</th>\n",
       "      <th>Domain</th>\n",
       "      <th>ComputerProgramming</th>\n",
       "      <th>ElectronicsAndSemicon</th>\n",
       "      <th>ComputerScience</th>\n",
       "      <th>MechanicalEngg</th>\n",
       "      <th>ElectricalEngg</th>\n",
       "      <th>TelecomEngg</th>\n",
       "      <th>CivilEngg</th>\n",
       "      <th>conscientiousness</th>\n",
       "      <th>agreeableness</th>\n",
       "      <th>extraversion</th>\n",
       "      <th>nueroticism</th>\n",
       "      <th>openess_to_experience</th>\n",
       "    </tr>\n",
       "  </thead>\n",
       "  <tbody>\n",
       "    <tr>\n",
       "      <th>count</th>\n",
       "      <td>3.998000e+03</td>\n",
       "      <td>3.998000e+03</td>\n",
       "      <td>3998.000000</td>\n",
       "      <td>3998.000000</td>\n",
       "      <td>3998.000000</td>\n",
       "      <td>3998.000000</td>\n",
       "      <td>3998.000000</td>\n",
       "      <td>3998.000000</td>\n",
       "      <td>3998.000000</td>\n",
       "      <td>3998.000000</td>\n",
       "      <td>3998.000000</td>\n",
       "      <td>3998.000000</td>\n",
       "      <td>3998.000000</td>\n",
       "      <td>3998.000000</td>\n",
       "      <td>3998.000000</td>\n",
       "      <td>3998.000000</td>\n",
       "      <td>3998.000000</td>\n",
       "      <td>3998.000000</td>\n",
       "      <td>3998.000000</td>\n",
       "      <td>3998.000000</td>\n",
       "      <td>3998.000000</td>\n",
       "      <td>3998.000000</td>\n",
       "      <td>3998.000000</td>\n",
       "      <td>3998.000000</td>\n",
       "      <td>3998.000000</td>\n",
       "      <td>3998.000000</td>\n",
       "      <td>3998.000000</td>\n",
       "    </tr>\n",
       "    <tr>\n",
       "      <th>mean</th>\n",
       "      <td>6.637945e+05</td>\n",
       "      <td>3.076998e+05</td>\n",
       "      <td>77.925443</td>\n",
       "      <td>2008.087544</td>\n",
       "      <td>74.466366</td>\n",
       "      <td>5156.851426</td>\n",
       "      <td>1.925713</td>\n",
       "      <td>71.486171</td>\n",
       "      <td>5156.851426</td>\n",
       "      <td>0.300400</td>\n",
       "      <td>2012.105803</td>\n",
       "      <td>501.649075</td>\n",
       "      <td>501.598799</td>\n",
       "      <td>513.378189</td>\n",
       "      <td>0.510490</td>\n",
       "      <td>353.102801</td>\n",
       "      <td>95.328414</td>\n",
       "      <td>90.742371</td>\n",
       "      <td>22.974737</td>\n",
       "      <td>16.478739</td>\n",
       "      <td>31.851176</td>\n",
       "      <td>2.683842</td>\n",
       "      <td>-0.037831</td>\n",
       "      <td>0.146496</td>\n",
       "      <td>0.002763</td>\n",
       "      <td>-0.169033</td>\n",
       "      <td>-0.138110</td>\n",
       "    </tr>\n",
       "    <tr>\n",
       "      <th>std</th>\n",
       "      <td>3.632182e+05</td>\n",
       "      <td>2.127375e+05</td>\n",
       "      <td>9.850162</td>\n",
       "      <td>1.653599</td>\n",
       "      <td>10.999933</td>\n",
       "      <td>4802.261482</td>\n",
       "      <td>0.262270</td>\n",
       "      <td>8.167338</td>\n",
       "      <td>4802.261482</td>\n",
       "      <td>0.458489</td>\n",
       "      <td>31.857271</td>\n",
       "      <td>104.940021</td>\n",
       "      <td>86.783297</td>\n",
       "      <td>122.302332</td>\n",
       "      <td>0.468671</td>\n",
       "      <td>205.355519</td>\n",
       "      <td>158.241218</td>\n",
       "      <td>175.273083</td>\n",
       "      <td>98.123311</td>\n",
       "      <td>87.585634</td>\n",
       "      <td>104.852845</td>\n",
       "      <td>36.658505</td>\n",
       "      <td>1.028666</td>\n",
       "      <td>0.941782</td>\n",
       "      <td>0.951471</td>\n",
       "      <td>1.007580</td>\n",
       "      <td>1.008075</td>\n",
       "    </tr>\n",
       "    <tr>\n",
       "      <th>min</th>\n",
       "      <td>1.124400e+04</td>\n",
       "      <td>3.500000e+04</td>\n",
       "      <td>43.000000</td>\n",
       "      <td>1995.000000</td>\n",
       "      <td>40.000000</td>\n",
       "      <td>2.000000</td>\n",
       "      <td>1.000000</td>\n",
       "      <td>6.450000</td>\n",
       "      <td>2.000000</td>\n",
       "      <td>0.000000</td>\n",
       "      <td>0.000000</td>\n",
       "      <td>180.000000</td>\n",
       "      <td>195.000000</td>\n",
       "      <td>120.000000</td>\n",
       "      <td>-1.000000</td>\n",
       "      <td>-1.000000</td>\n",
       "      <td>-1.000000</td>\n",
       "      <td>-1.000000</td>\n",
       "      <td>-1.000000</td>\n",
       "      <td>-1.000000</td>\n",
       "      <td>-1.000000</td>\n",
       "      <td>-1.000000</td>\n",
       "      <td>-4.126700</td>\n",
       "      <td>-5.781600</td>\n",
       "      <td>-4.600900</td>\n",
       "      <td>-2.643000</td>\n",
       "      <td>-7.375700</td>\n",
       "    </tr>\n",
       "    <tr>\n",
       "      <th>25%</th>\n",
       "      <td>3.342842e+05</td>\n",
       "      <td>1.800000e+05</td>\n",
       "      <td>71.680000</td>\n",
       "      <td>2007.000000</td>\n",
       "      <td>66.000000</td>\n",
       "      <td>494.000000</td>\n",
       "      <td>2.000000</td>\n",
       "      <td>66.407500</td>\n",
       "      <td>494.000000</td>\n",
       "      <td>0.000000</td>\n",
       "      <td>2012.000000</td>\n",
       "      <td>425.000000</td>\n",
       "      <td>445.000000</td>\n",
       "      <td>430.000000</td>\n",
       "      <td>0.342315</td>\n",
       "      <td>295.000000</td>\n",
       "      <td>-1.000000</td>\n",
       "      <td>-1.000000</td>\n",
       "      <td>-1.000000</td>\n",
       "      <td>-1.000000</td>\n",
       "      <td>-1.000000</td>\n",
       "      <td>-1.000000</td>\n",
       "      <td>-0.713525</td>\n",
       "      <td>-0.287100</td>\n",
       "      <td>-0.604800</td>\n",
       "      <td>-0.868200</td>\n",
       "      <td>-0.669200</td>\n",
       "    </tr>\n",
       "    <tr>\n",
       "      <th>50%</th>\n",
       "      <td>6.396000e+05</td>\n",
       "      <td>3.000000e+05</td>\n",
       "      <td>79.150000</td>\n",
       "      <td>2008.000000</td>\n",
       "      <td>74.400000</td>\n",
       "      <td>3879.000000</td>\n",
       "      <td>2.000000</td>\n",
       "      <td>71.720000</td>\n",
       "      <td>3879.000000</td>\n",
       "      <td>0.000000</td>\n",
       "      <td>2013.000000</td>\n",
       "      <td>500.000000</td>\n",
       "      <td>505.000000</td>\n",
       "      <td>515.000000</td>\n",
       "      <td>0.622643</td>\n",
       "      <td>415.000000</td>\n",
       "      <td>-1.000000</td>\n",
       "      <td>-1.000000</td>\n",
       "      <td>-1.000000</td>\n",
       "      <td>-1.000000</td>\n",
       "      <td>-1.000000</td>\n",
       "      <td>-1.000000</td>\n",
       "      <td>0.046400</td>\n",
       "      <td>0.212400</td>\n",
       "      <td>0.091400</td>\n",
       "      <td>-0.234400</td>\n",
       "      <td>-0.094300</td>\n",
       "    </tr>\n",
       "    <tr>\n",
       "      <th>75%</th>\n",
       "      <td>9.904800e+05</td>\n",
       "      <td>3.700000e+05</td>\n",
       "      <td>85.670000</td>\n",
       "      <td>2009.000000</td>\n",
       "      <td>82.600000</td>\n",
       "      <td>8818.000000</td>\n",
       "      <td>2.000000</td>\n",
       "      <td>76.327500</td>\n",
       "      <td>8818.000000</td>\n",
       "      <td>1.000000</td>\n",
       "      <td>2014.000000</td>\n",
       "      <td>570.000000</td>\n",
       "      <td>565.000000</td>\n",
       "      <td>595.000000</td>\n",
       "      <td>0.842248</td>\n",
       "      <td>495.000000</td>\n",
       "      <td>233.000000</td>\n",
       "      <td>-1.000000</td>\n",
       "      <td>-1.000000</td>\n",
       "      <td>-1.000000</td>\n",
       "      <td>-1.000000</td>\n",
       "      <td>-1.000000</td>\n",
       "      <td>0.702700</td>\n",
       "      <td>0.812800</td>\n",
       "      <td>0.672000</td>\n",
       "      <td>0.526200</td>\n",
       "      <td>0.502400</td>\n",
       "    </tr>\n",
       "    <tr>\n",
       "      <th>max</th>\n",
       "      <td>1.298275e+06</td>\n",
       "      <td>4.000000e+06</td>\n",
       "      <td>97.760000</td>\n",
       "      <td>2013.000000</td>\n",
       "      <td>98.700000</td>\n",
       "      <td>18409.000000</td>\n",
       "      <td>2.000000</td>\n",
       "      <td>99.930000</td>\n",
       "      <td>18409.000000</td>\n",
       "      <td>1.000000</td>\n",
       "      <td>2017.000000</td>\n",
       "      <td>875.000000</td>\n",
       "      <td>795.000000</td>\n",
       "      <td>900.000000</td>\n",
       "      <td>0.999910</td>\n",
       "      <td>840.000000</td>\n",
       "      <td>612.000000</td>\n",
       "      <td>715.000000</td>\n",
       "      <td>623.000000</td>\n",
       "      <td>676.000000</td>\n",
       "      <td>548.000000</td>\n",
       "      <td>516.000000</td>\n",
       "      <td>1.995300</td>\n",
       "      <td>1.904800</td>\n",
       "      <td>2.535400</td>\n",
       "      <td>3.352500</td>\n",
       "      <td>1.822400</td>\n",
       "    </tr>\n",
       "  </tbody>\n",
       "</table>\n",
       "</div>"
      ],
      "text/plain": [
       "                 ID        Salary  10percentage  12graduation  12percentage  \\\n",
       "count  3.998000e+03  3.998000e+03   3998.000000   3998.000000   3998.000000   \n",
       "mean   6.637945e+05  3.076998e+05     77.925443   2008.087544     74.466366   \n",
       "std    3.632182e+05  2.127375e+05      9.850162      1.653599     10.999933   \n",
       "min    1.124400e+04  3.500000e+04     43.000000   1995.000000     40.000000   \n",
       "25%    3.342842e+05  1.800000e+05     71.680000   2007.000000     66.000000   \n",
       "50%    6.396000e+05  3.000000e+05     79.150000   2008.000000     74.400000   \n",
       "75%    9.904800e+05  3.700000e+05     85.670000   2009.000000     82.600000   \n",
       "max    1.298275e+06  4.000000e+06     97.760000   2013.000000     98.700000   \n",
       "\n",
       "          CollegeID  CollegeTier   collegeGPA  CollegeCityID  CollegeCityTier  \\\n",
       "count   3998.000000  3998.000000  3998.000000    3998.000000      3998.000000   \n",
       "mean    5156.851426     1.925713    71.486171    5156.851426         0.300400   \n",
       "std     4802.261482     0.262270     8.167338    4802.261482         0.458489   \n",
       "min        2.000000     1.000000     6.450000       2.000000         0.000000   \n",
       "25%      494.000000     2.000000    66.407500     494.000000         0.000000   \n",
       "50%     3879.000000     2.000000    71.720000    3879.000000         0.000000   \n",
       "75%     8818.000000     2.000000    76.327500    8818.000000         1.000000   \n",
       "max    18409.000000     2.000000    99.930000   18409.000000         1.000000   \n",
       "\n",
       "       GraduationYear      English      Logical        Quant       Domain  \\\n",
       "count     3998.000000  3998.000000  3998.000000  3998.000000  3998.000000   \n",
       "mean      2012.105803   501.649075   501.598799   513.378189     0.510490   \n",
       "std         31.857271   104.940021    86.783297   122.302332     0.468671   \n",
       "min          0.000000   180.000000   195.000000   120.000000    -1.000000   \n",
       "25%       2012.000000   425.000000   445.000000   430.000000     0.342315   \n",
       "50%       2013.000000   500.000000   505.000000   515.000000     0.622643   \n",
       "75%       2014.000000   570.000000   565.000000   595.000000     0.842248   \n",
       "max       2017.000000   875.000000   795.000000   900.000000     0.999910   \n",
       "\n",
       "       ComputerProgramming  ElectronicsAndSemicon  ComputerScience  \\\n",
       "count          3998.000000            3998.000000      3998.000000   \n",
       "mean            353.102801              95.328414        90.742371   \n",
       "std             205.355519             158.241218       175.273083   \n",
       "min              -1.000000              -1.000000        -1.000000   \n",
       "25%             295.000000              -1.000000        -1.000000   \n",
       "50%             415.000000              -1.000000        -1.000000   \n",
       "75%             495.000000             233.000000        -1.000000   \n",
       "max             840.000000             612.000000       715.000000   \n",
       "\n",
       "       MechanicalEngg  ElectricalEngg  TelecomEngg    CivilEngg  \\\n",
       "count     3998.000000     3998.000000  3998.000000  3998.000000   \n",
       "mean        22.974737       16.478739    31.851176     2.683842   \n",
       "std         98.123311       87.585634   104.852845    36.658505   \n",
       "min         -1.000000       -1.000000    -1.000000    -1.000000   \n",
       "25%         -1.000000       -1.000000    -1.000000    -1.000000   \n",
       "50%         -1.000000       -1.000000    -1.000000    -1.000000   \n",
       "75%         -1.000000       -1.000000    -1.000000    -1.000000   \n",
       "max        623.000000      676.000000   548.000000   516.000000   \n",
       "\n",
       "       conscientiousness  agreeableness  extraversion  nueroticism  \\\n",
       "count        3998.000000    3998.000000   3998.000000  3998.000000   \n",
       "mean           -0.037831       0.146496      0.002763    -0.169033   \n",
       "std             1.028666       0.941782      0.951471     1.007580   \n",
       "min            -4.126700      -5.781600     -4.600900    -2.643000   \n",
       "25%            -0.713525      -0.287100     -0.604800    -0.868200   \n",
       "50%             0.046400       0.212400      0.091400    -0.234400   \n",
       "75%             0.702700       0.812800      0.672000     0.526200   \n",
       "max             1.995300       1.904800      2.535400     3.352500   \n",
       "\n",
       "       openess_to_experience  \n",
       "count            3998.000000  \n",
       "mean               -0.138110  \n",
       "std                 1.008075  \n",
       "min                -7.375700  \n",
       "25%                -0.669200  \n",
       "50%                -0.094300  \n",
       "75%                 0.502400  \n",
       "max                 1.822400  "
      ]
     },
     "execution_count": 10,
     "metadata": {},
     "output_type": "execute_result"
    }
   ],
   "source": [
    "df.describe()"
   ]
  },
  {
   "cell_type": "code",
   "execution_count": 11,
   "id": "3afb2a79",
   "metadata": {},
   "outputs": [
    {
     "data": {
      "text/plain": [
       "Unnamed: 0                  1\n",
       "ID                       3998\n",
       "Salary                    177\n",
       "DOJ                        81\n",
       "DOL                        67\n",
       "Designation               419\n",
       "JobCity                   339\n",
       "Gender                      2\n",
       "DOB                      1872\n",
       "10percentage              851\n",
       "10board                   275\n",
       "12graduation               16\n",
       "12percentage              801\n",
       "12board                   340\n",
       "CollegeID                1350\n",
       "CollegeTier                 2\n",
       "Degree                      4\n",
       "Specialization             46\n",
       "collegeGPA               1282\n",
       "CollegeCityID            1350\n",
       "CollegeCityTier             2\n",
       "CollegeState               26\n",
       "GraduationYear             11\n",
       "English                   111\n",
       "Logical                   107\n",
       "Quant                     138\n",
       "Domain                    243\n",
       "ComputerProgramming        79\n",
       "ElectronicsAndSemicon      29\n",
       "ComputerScience            20\n",
       "MechanicalEngg             42\n",
       "ElectricalEngg             31\n",
       "TelecomEngg                26\n",
       "CivilEngg                  23\n",
       "conscientiousness         141\n",
       "agreeableness             149\n",
       "extraversion              154\n",
       "nueroticism               217\n",
       "openess_to_experience     142\n",
       "dtype: int64"
      ]
     },
     "execution_count": 11,
     "metadata": {},
     "output_type": "execute_result"
    }
   ],
   "source": [
    "#Checking unique values\n",
    "df.apply(lambda x: len(x.unique()))"
   ]
  },
  {
   "cell_type": "code",
   "execution_count": 12,
   "id": "6e37f0a8",
   "metadata": {},
   "outputs": [
    {
     "data": {
      "text/plain": [
       "Unnamed: 0               0\n",
       "ID                       0\n",
       "Salary                   0\n",
       "DOJ                      0\n",
       "DOL                      0\n",
       "Designation              0\n",
       "JobCity                  0\n",
       "Gender                   0\n",
       "DOB                      0\n",
       "10percentage             0\n",
       "10board                  0\n",
       "12graduation             0\n",
       "12percentage             0\n",
       "12board                  0\n",
       "CollegeID                0\n",
       "CollegeTier              0\n",
       "Degree                   0\n",
       "Specialization           0\n",
       "collegeGPA               0\n",
       "CollegeCityID            0\n",
       "CollegeCityTier          0\n",
       "CollegeState             0\n",
       "GraduationYear           0\n",
       "English                  0\n",
       "Logical                  0\n",
       "Quant                    0\n",
       "Domain                   0\n",
       "ComputerProgramming      0\n",
       "ElectronicsAndSemicon    0\n",
       "ComputerScience          0\n",
       "MechanicalEngg           0\n",
       "ElectricalEngg           0\n",
       "TelecomEngg              0\n",
       "CivilEngg                0\n",
       "conscientiousness        0\n",
       "agreeableness            0\n",
       "extraversion             0\n",
       "nueroticism              0\n",
       "openess_to_experience    0\n",
       "dtype: int64"
      ]
     },
     "execution_count": 12,
     "metadata": {},
     "output_type": "execute_result"
    }
   ],
   "source": [
    "#Checking for null values\n",
    "df.isnull().sum()"
   ]
  },
  {
   "cell_type": "code",
   "execution_count": 13,
   "id": "0162ae45",
   "metadata": {},
   "outputs": [
    {
     "data": {
      "text/plain": [
       "0"
      ]
     },
     "execution_count": 13,
     "metadata": {},
     "output_type": "execute_result"
    }
   ],
   "source": [
    "#Checking duplicate rows\n",
    "df.duplicated().sum()"
   ]
  },
  {
   "cell_type": "code",
   "execution_count": 14,
   "id": "059e6f5a",
   "metadata": {},
   "outputs": [
    {
     "data": {
      "text/html": [
       "<div>\n",
       "<style scoped>\n",
       "    .dataframe tbody tr th:only-of-type {\n",
       "        vertical-align: middle;\n",
       "    }\n",
       "\n",
       "    .dataframe tbody tr th {\n",
       "        vertical-align: top;\n",
       "    }\n",
       "\n",
       "    .dataframe thead th {\n",
       "        text-align: right;\n",
       "    }\n",
       "</style>\n",
       "<table border=\"1\" class=\"dataframe\">\n",
       "  <thead>\n",
       "    <tr style=\"text-align: right;\">\n",
       "      <th></th>\n",
       "      <th>Unnamed: 0</th>\n",
       "      <th>ID</th>\n",
       "      <th>Salary</th>\n",
       "      <th>DOJ</th>\n",
       "      <th>DOL</th>\n",
       "      <th>Designation</th>\n",
       "      <th>JobCity</th>\n",
       "      <th>Gender</th>\n",
       "      <th>DOB</th>\n",
       "      <th>10percentage</th>\n",
       "      <th>10board</th>\n",
       "      <th>12graduation</th>\n",
       "      <th>12percentage</th>\n",
       "      <th>12board</th>\n",
       "      <th>CollegeID</th>\n",
       "      <th>CollegeTier</th>\n",
       "      <th>Degree</th>\n",
       "      <th>Specialization</th>\n",
       "      <th>collegeGPA</th>\n",
       "      <th>CollegeCityID</th>\n",
       "      <th>CollegeCityTier</th>\n",
       "      <th>CollegeState</th>\n",
       "      <th>GraduationYear</th>\n",
       "      <th>English</th>\n",
       "      <th>Logical</th>\n",
       "      <th>Quant</th>\n",
       "      <th>Domain</th>\n",
       "      <th>ComputerProgramming</th>\n",
       "      <th>ElectronicsAndSemicon</th>\n",
       "      <th>ComputerScience</th>\n",
       "      <th>MechanicalEngg</th>\n",
       "      <th>ElectricalEngg</th>\n",
       "      <th>TelecomEngg</th>\n",
       "      <th>CivilEngg</th>\n",
       "      <th>conscientiousness</th>\n",
       "      <th>agreeableness</th>\n",
       "      <th>extraversion</th>\n",
       "      <th>nueroticism</th>\n",
       "      <th>openess_to_experience</th>\n",
       "    </tr>\n",
       "  </thead>\n",
       "  <tbody>\n",
       "    <tr>\n",
       "      <th>0</th>\n",
       "      <td>train</td>\n",
       "      <td>203097</td>\n",
       "      <td>420000</td>\n",
       "      <td>2012-06-01</td>\n",
       "      <td>present</td>\n",
       "      <td>senior quality engineer</td>\n",
       "      <td>Bangalore</td>\n",
       "      <td>f</td>\n",
       "      <td>1990-02-19</td>\n",
       "      <td>84.3</td>\n",
       "      <td>board ofsecondary education,ap</td>\n",
       "      <td>2007</td>\n",
       "      <td>95.8</td>\n",
       "      <td>board of intermediate education,ap</td>\n",
       "      <td>1141</td>\n",
       "      <td>2</td>\n",
       "      <td>B.Tech/B.E.</td>\n",
       "      <td>computer engineering</td>\n",
       "      <td>78.00</td>\n",
       "      <td>1141</td>\n",
       "      <td>0</td>\n",
       "      <td>Andhra Pradesh</td>\n",
       "      <td>2011</td>\n",
       "      <td>515</td>\n",
       "      <td>585</td>\n",
       "      <td>525</td>\n",
       "      <td>0.635979</td>\n",
       "      <td>445</td>\n",
       "      <td>-1</td>\n",
       "      <td>-1</td>\n",
       "      <td>-1</td>\n",
       "      <td>-1</td>\n",
       "      <td>-1</td>\n",
       "      <td>-1</td>\n",
       "      <td>0.9737</td>\n",
       "      <td>0.8128</td>\n",
       "      <td>0.5269</td>\n",
       "      <td>1.35490</td>\n",
       "      <td>-0.4455</td>\n",
       "    </tr>\n",
       "    <tr>\n",
       "      <th>1</th>\n",
       "      <td>train</td>\n",
       "      <td>579905</td>\n",
       "      <td>500000</td>\n",
       "      <td>2013-09-01</td>\n",
       "      <td>present</td>\n",
       "      <td>assistant manager</td>\n",
       "      <td>Indore</td>\n",
       "      <td>m</td>\n",
       "      <td>1989-10-04</td>\n",
       "      <td>85.4</td>\n",
       "      <td>cbse</td>\n",
       "      <td>2007</td>\n",
       "      <td>85.0</td>\n",
       "      <td>cbse</td>\n",
       "      <td>5807</td>\n",
       "      <td>2</td>\n",
       "      <td>B.Tech/B.E.</td>\n",
       "      <td>electronics and communication engineering</td>\n",
       "      <td>70.06</td>\n",
       "      <td>5807</td>\n",
       "      <td>0</td>\n",
       "      <td>Madhya Pradesh</td>\n",
       "      <td>2012</td>\n",
       "      <td>695</td>\n",
       "      <td>610</td>\n",
       "      <td>780</td>\n",
       "      <td>0.960603</td>\n",
       "      <td>-1</td>\n",
       "      <td>466</td>\n",
       "      <td>-1</td>\n",
       "      <td>-1</td>\n",
       "      <td>-1</td>\n",
       "      <td>-1</td>\n",
       "      <td>-1</td>\n",
       "      <td>-0.7335</td>\n",
       "      <td>0.3789</td>\n",
       "      <td>1.2396</td>\n",
       "      <td>-0.10760</td>\n",
       "      <td>0.8637</td>\n",
       "    </tr>\n",
       "    <tr>\n",
       "      <th>2</th>\n",
       "      <td>train</td>\n",
       "      <td>810601</td>\n",
       "      <td>325000</td>\n",
       "      <td>2014-06-01</td>\n",
       "      <td>present</td>\n",
       "      <td>systems engineer</td>\n",
       "      <td>Chennai</td>\n",
       "      <td>f</td>\n",
       "      <td>1992-08-03</td>\n",
       "      <td>85.0</td>\n",
       "      <td>cbse</td>\n",
       "      <td>2010</td>\n",
       "      <td>68.2</td>\n",
       "      <td>cbse</td>\n",
       "      <td>64</td>\n",
       "      <td>2</td>\n",
       "      <td>B.Tech/B.E.</td>\n",
       "      <td>information technology</td>\n",
       "      <td>70.00</td>\n",
       "      <td>64</td>\n",
       "      <td>0</td>\n",
       "      <td>Uttar Pradesh</td>\n",
       "      <td>2014</td>\n",
       "      <td>615</td>\n",
       "      <td>545</td>\n",
       "      <td>370</td>\n",
       "      <td>0.450877</td>\n",
       "      <td>395</td>\n",
       "      <td>-1</td>\n",
       "      <td>-1</td>\n",
       "      <td>-1</td>\n",
       "      <td>-1</td>\n",
       "      <td>-1</td>\n",
       "      <td>-1</td>\n",
       "      <td>0.2718</td>\n",
       "      <td>1.7109</td>\n",
       "      <td>0.1637</td>\n",
       "      <td>-0.86820</td>\n",
       "      <td>0.6721</td>\n",
       "    </tr>\n",
       "    <tr>\n",
       "      <th>3</th>\n",
       "      <td>train</td>\n",
       "      <td>267447</td>\n",
       "      <td>1100000</td>\n",
       "      <td>2011-07-01</td>\n",
       "      <td>present</td>\n",
       "      <td>senior software engineer</td>\n",
       "      <td>Gurgaon</td>\n",
       "      <td>m</td>\n",
       "      <td>1989-12-05</td>\n",
       "      <td>85.6</td>\n",
       "      <td>cbse</td>\n",
       "      <td>2007</td>\n",
       "      <td>83.6</td>\n",
       "      <td>cbse</td>\n",
       "      <td>6920</td>\n",
       "      <td>1</td>\n",
       "      <td>B.Tech/B.E.</td>\n",
       "      <td>computer engineering</td>\n",
       "      <td>74.64</td>\n",
       "      <td>6920</td>\n",
       "      <td>1</td>\n",
       "      <td>Delhi</td>\n",
       "      <td>2011</td>\n",
       "      <td>635</td>\n",
       "      <td>585</td>\n",
       "      <td>625</td>\n",
       "      <td>0.974396</td>\n",
       "      <td>615</td>\n",
       "      <td>-1</td>\n",
       "      <td>-1</td>\n",
       "      <td>-1</td>\n",
       "      <td>-1</td>\n",
       "      <td>-1</td>\n",
       "      <td>-1</td>\n",
       "      <td>0.0464</td>\n",
       "      <td>0.3448</td>\n",
       "      <td>-0.3440</td>\n",
       "      <td>-0.40780</td>\n",
       "      <td>-0.9194</td>\n",
       "    </tr>\n",
       "    <tr>\n",
       "      <th>4</th>\n",
       "      <td>train</td>\n",
       "      <td>343523</td>\n",
       "      <td>200000</td>\n",
       "      <td>2014-03-01</td>\n",
       "      <td>2015-03-01 00:00:00</td>\n",
       "      <td>get</td>\n",
       "      <td>Manesar</td>\n",
       "      <td>m</td>\n",
       "      <td>1991-02-27</td>\n",
       "      <td>78.0</td>\n",
       "      <td>cbse</td>\n",
       "      <td>2008</td>\n",
       "      <td>76.8</td>\n",
       "      <td>cbse</td>\n",
       "      <td>11368</td>\n",
       "      <td>2</td>\n",
       "      <td>B.Tech/B.E.</td>\n",
       "      <td>electronics and communication engineering</td>\n",
       "      <td>73.90</td>\n",
       "      <td>11368</td>\n",
       "      <td>0</td>\n",
       "      <td>Uttar Pradesh</td>\n",
       "      <td>2012</td>\n",
       "      <td>545</td>\n",
       "      <td>625</td>\n",
       "      <td>465</td>\n",
       "      <td>0.124502</td>\n",
       "      <td>-1</td>\n",
       "      <td>233</td>\n",
       "      <td>-1</td>\n",
       "      <td>-1</td>\n",
       "      <td>-1</td>\n",
       "      <td>-1</td>\n",
       "      <td>-1</td>\n",
       "      <td>-0.8810</td>\n",
       "      <td>-0.2793</td>\n",
       "      <td>-1.0697</td>\n",
       "      <td>0.09163</td>\n",
       "      <td>-0.1295</td>\n",
       "    </tr>\n",
       "  </tbody>\n",
       "</table>\n",
       "</div>"
      ],
      "text/plain": [
       "  Unnamed: 0      ID   Salary        DOJ                  DOL  \\\n",
       "0      train  203097   420000 2012-06-01              present   \n",
       "1      train  579905   500000 2013-09-01              present   \n",
       "2      train  810601   325000 2014-06-01              present   \n",
       "3      train  267447  1100000 2011-07-01              present   \n",
       "4      train  343523   200000 2014-03-01  2015-03-01 00:00:00   \n",
       "\n",
       "                Designation    JobCity Gender        DOB  10percentage  \\\n",
       "0   senior quality engineer  Bangalore      f 1990-02-19          84.3   \n",
       "1         assistant manager     Indore      m 1989-10-04          85.4   \n",
       "2          systems engineer    Chennai      f 1992-08-03          85.0   \n",
       "3  senior software engineer    Gurgaon      m 1989-12-05          85.6   \n",
       "4                       get    Manesar      m 1991-02-27          78.0   \n",
       "\n",
       "                          10board  12graduation  12percentage  \\\n",
       "0  board ofsecondary education,ap          2007          95.8   \n",
       "1                            cbse          2007          85.0   \n",
       "2                            cbse          2010          68.2   \n",
       "3                            cbse          2007          83.6   \n",
       "4                            cbse          2008          76.8   \n",
       "\n",
       "                              12board  CollegeID  CollegeTier       Degree  \\\n",
       "0  board of intermediate education,ap       1141            2  B.Tech/B.E.   \n",
       "1                                cbse       5807            2  B.Tech/B.E.   \n",
       "2                                cbse         64            2  B.Tech/B.E.   \n",
       "3                                cbse       6920            1  B.Tech/B.E.   \n",
       "4                                cbse      11368            2  B.Tech/B.E.   \n",
       "\n",
       "                              Specialization  collegeGPA  CollegeCityID  \\\n",
       "0                       computer engineering       78.00           1141   \n",
       "1  electronics and communication engineering       70.06           5807   \n",
       "2                     information technology       70.00             64   \n",
       "3                       computer engineering       74.64           6920   \n",
       "4  electronics and communication engineering       73.90          11368   \n",
       "\n",
       "   CollegeCityTier    CollegeState  GraduationYear  English  Logical  Quant  \\\n",
       "0                0  Andhra Pradesh            2011      515      585    525   \n",
       "1                0  Madhya Pradesh            2012      695      610    780   \n",
       "2                0   Uttar Pradesh            2014      615      545    370   \n",
       "3                1           Delhi            2011      635      585    625   \n",
       "4                0   Uttar Pradesh            2012      545      625    465   \n",
       "\n",
       "     Domain  ComputerProgramming  ElectronicsAndSemicon  ComputerScience  \\\n",
       "0  0.635979                  445                     -1               -1   \n",
       "1  0.960603                   -1                    466               -1   \n",
       "2  0.450877                  395                     -1               -1   \n",
       "3  0.974396                  615                     -1               -1   \n",
       "4  0.124502                   -1                    233               -1   \n",
       "\n",
       "   MechanicalEngg  ElectricalEngg  TelecomEngg  CivilEngg  conscientiousness  \\\n",
       "0              -1              -1           -1         -1             0.9737   \n",
       "1              -1              -1           -1         -1            -0.7335   \n",
       "2              -1              -1           -1         -1             0.2718   \n",
       "3              -1              -1           -1         -1             0.0464   \n",
       "4              -1              -1           -1         -1            -0.8810   \n",
       "\n",
       "   agreeableness  extraversion  nueroticism  openess_to_experience  \n",
       "0         0.8128        0.5269      1.35490                -0.4455  \n",
       "1         0.3789        1.2396     -0.10760                 0.8637  \n",
       "2         1.7109        0.1637     -0.86820                 0.6721  \n",
       "3         0.3448       -0.3440     -0.40780                -0.9194  \n",
       "4        -0.2793       -1.0697      0.09163                -0.1295  "
      ]
     },
     "execution_count": 14,
     "metadata": {},
     "output_type": "execute_result"
    }
   ],
   "source": [
    "df.head()"
   ]
  },
  {
   "cell_type": "markdown",
   "id": "19e2ba22",
   "metadata": {},
   "source": [
    "## EDA"
   ]
  },
  {
   "cell_type": "markdown",
   "id": "f5edae6e",
   "metadata": {},
   "source": [
    "### Uni-Variate Analysis"
   ]
  },
  {
   "cell_type": "markdown",
   "id": "146ed88f",
   "metadata": {},
   "source": [
    "#### Salary"
   ]
  },
  {
   "cell_type": "code",
   "execution_count": 15,
   "id": "ea8f9ca4",
   "metadata": {},
   "outputs": [
    {
     "data": {
      "text/plain": [
       "<AxesSubplot:xlabel='Salary', ylabel='Count'>"
      ]
     },
     "execution_count": 15,
     "metadata": {},
     "output_type": "execute_result"
    },
    {
     "data": {
      "image/png": "[encoded data removed]",
      "text/plain": [
       "<Figure size 432x288 with 1 Axes>"
      ]
     },
     "metadata": {
      "needs_background": "light"
     },
     "output_type": "display_data"
    }
   ],
   "source": [
    "sns.histplot(df['Salary'], kde=True)"
   ]
  },
  {
   "cell_type": "code",
   "execution_count": 16,
   "id": "21579a35",
   "metadata": {},
   "outputs": [
    {
     "data": {
      "text/plain": [
       "<AxesSubplot:xlabel='Salary'>"
      ]
     },
     "execution_count": 16,
     "metadata": {},
     "output_type": "execute_result"
    },
    {
     "data": {
      "image/png": "[encoded data removed]",
      "text/plain": [
       "<Figure size 432x288 with 1 Axes>"
      ]
     },
     "metadata": {
      "needs_background": "light"
     },
     "output_type": "display_data"
    }
   ],
   "source": [
    "sns.boxplot(df['Salary'])"
   ]
  },
  {
   "cell_type": "code",
   "execution_count": 17,
   "id": "5bc8a02a",
   "metadata": {},
   "outputs": [],
   "source": [
    "salary_low = df['Salary'].quantile(0.00001)\n",
    "salary_high  = df['Salary'].quantile(0.96822)\n",
    "\n",
    "df = df[(df['Salary'] < salary_high) & (df['Salary'] > salary_low)]"
   ]
  },
  {
   "cell_type": "code",
   "execution_count": 18,
   "id": "a6551538",
   "metadata": {},
   "outputs": [
    {
     "data": {
      "text/plain": [
       "<AxesSubplot:xlabel='Salary'>"
      ]
     },
     "execution_count": 18,
     "metadata": {},
     "output_type": "execute_result"
    },
    {
     "data": {
      "image/png": "[encoded data removed]",
      "text/plain": [
       "<Figure size 432x288 with 1 Axes>"
      ]
     },
     "metadata": {
      "needs_background": "light"
     },
     "output_type": "display_data"
    }
   ],
   "source": [
    "sns.boxplot(df['Salary'])"
   ]
  },
  {
   "cell_type": "code",
   "execution_count": 19,
   "id": "d50a991e",
   "metadata": {},
   "outputs": [
    {
     "data": {
      "text/plain": [
       "<AxesSubplot:xlabel='Salary', ylabel='Density'>"
      ]
     },
     "execution_count": 19,
     "metadata": {},
     "output_type": "execute_result"
    },
    {
     "data": {
      "image/png": "[encoded data removed]",
      "text/plain": [
       "<Figure size 432x288 with 1 Axes>"
      ]
     },
     "metadata": {
      "needs_background": "light"
     },
     "output_type": "display_data"
    }
   ],
   "source": [
    "sns.distplot(df['Salary'])"
   ]
  },
  {
   "cell_type": "code",
   "execution_count": 20,
   "id": "e2055d63",
   "metadata": {},
   "outputs": [
    {
     "name": "stdout",
     "output_type": "stream",
     "text": [
      "Mean Salary:    283759.4\n",
      "Median Salary:  300000.0\n"
     ]
    }
   ],
   "source": [
    "print(\"Mean Salary:   \", round(np.mean(df['Salary']), 1))\n",
    "print(\"Median Salary: \", np.median(df['Salary']))"
   ]
  },
  {
   "cell_type": "markdown",
   "id": "d286c0f8",
   "metadata": {},
   "source": [
    "#### Job City"
   ]
  },
  {
   "cell_type": "code",
   "execution_count": 21,
   "id": "aeffd028",
   "metadata": {},
   "outputs": [],
   "source": [
    "#PreProcessing Job City Column\n",
    "df['JobCity'] = df['JobCity'].str.strip()\n",
    "df['JobCity'] = df['JobCity'].str.lower()\n",
    "\n",
    "df.JobCity[df['JobCity'].isin(['a-64,sec-64,noida', 'greater noida', 'nouda'])] = 'noida'\n",
    "df.JobCity[df['JobCity'].isin(['am', 'ambala city'])] = 'ambala'\n",
    "df.JobCity[df['JobCity'].isin(['al jubail,saudi arabia', 'ras al khaimah', 'dammam', 'dubai', 'johannesburg', 'kalmar, sweden', 'london'])] = 'outside india'\n",
    "df.JobCity[df['JobCity'].isin(['asifabadbanglore', 'banagalore', 'banaglore', 'bangalore', 'banglore', 'chennai, bangalore'])] = 'bengaluru'\n",
    "df.JobCity[df['JobCity'].isin(['baddi hp'])] = 'baddi'\n",
    "df.JobCity[df['JobCity'].isin(['bhubneshwar'])] = 'bhubneswar'\n",
    "df.JobCity[df['JobCity'].isin(['chennai & mumbai'])] = 'chennai'\n",
    "df.JobCity[df['JobCity'].isin(['delhi/ncr', 'ncr', 'new dehli', 'new delhi', 'new delhi - jaisalmer'])] = 'delhi'\n",
    "df.JobCity[df['JobCity'].isin(['gandhi nagar'])] = 'gandhinagar'\n",
    "df.JobCity[df['JobCity'].isin(['gaziabad', 'gajiabaad', 'indirapuram, ghaziabad'])] = 'ghaziabad'\n",
    "df.JobCity[df['JobCity'].isin(['guragaon', 'gurga', 'gurgoan'])] = 'gurgaon'\n",
    "df.JobCity[df['JobCity'].isin(['hderabad', 'hyderabad(bhadurpally)'])] = 'hyderabad'\n",
    "df.JobCity[df['JobCity'].isin(['keral'])] = 'kerala'\n",
    "df.JobCity[df['JobCity'].isin(['kochi/cochin', 'kochi/cochin, chennai and coimbatore'])] = 'kochi'\n",
    "df.JobCity[df['JobCity'].isin(['kolkata`'])] = 'kolkata'\n",
    "df.JobCity[df['JobCity'].isin(['kudankulam ,tarapur'])] = 'tarapur'\n",
    "df.JobCity[df['JobCity'].isin(['latur (maharashtra )'])] = 'latur'\n",
    "df.JobCity[df['JobCity'].isin(['mettur, tamil nadu'])] = 'mettur'\n",
    "df.JobCity[df['JobCity'].isin(['muzzafarpur'])] = 'muzaffarpur'\n",
    "df.JobCity[df['JobCity'].isin(['nasikcity'])] = 'nashik'\n",
    "df.JobCity[df['JobCity'].isin(['navi mumbai', 'navi mumbai , hyderabad'])] = 'mumbai'\n",
    "df.JobCity[df['JobCity'].isin(['pondi', 'pondy'])] = 'pondicherry'\n",
    "df.JobCity[df['JobCity'].isin(['punr'])] = 'pune'\n",
    "df.JobCity[df['JobCity'].isin(['rayagada, odisha'])] = 'orissa'\n",
    "df.JobCity[df['JobCity'].isin(['sadulpur,rajgarh,distt-churu,rajasthan'])] = 'rajasthan'\n",
    "df.JobCity[df['JobCity'].isin(['shahibabad'])] = 'sahibabad'\n",
    "df.JobCity[df['JobCity'].isin(['sonepat'])] = 'sonipat'\n",
    "df.JobCity[df['JobCity'].isin(['technopark, trivandrum', 'trivandrum'])] = 'thiruvananthapuram'\n",
    "df.JobCity[df['JobCity'].isin(['tirupathi'])] = 'tirupati'\n",
    "df.JobCity[df['JobCity'].isin(['vsakhapttnam'])] = 'visakhapatnam'\n",
    "\n",
    "\n",
    "df['JobCity'] = df['JobCity'].fillna(np.nan)"
   ]
  },
  {
   "cell_type": "code",
   "execution_count": 22,
   "id": "069437b9",
   "metadata": {
    "scrolled": false
   },
   "outputs": [
    {
     "data": {
      "text/plain": [
       "Text(0.5, 1.0, 'No. of Jobs by City')"
      ]
     },
     "execution_count": 22,
     "metadata": {},
     "output_type": "execute_result"
    },
    {
     "data": {
      "image/png": "[encoded data removed]",
      "text/plain": [
       "<Figure size 864x432 with 1 Axes>"
      ]
     },
     "metadata": {
      "needs_background": "light"
     },
     "output_type": "display_data"
    }
   ],
   "source": [
    "#Plotting the Job City column\n",
    "plt.figure(figsize=(12,6))\n",
    "sns.countplot(y=df['JobCity'], data=df, order=df.JobCity.value_counts().iloc[:10].index)\n",
    "plt.title('No. of Jobs by City')"
   ]
  },
  {
   "cell_type": "markdown",
   "id": "f1018849",
   "metadata": {},
   "source": [
    "#### Gender"
   ]
  },
  {
   "cell_type": "code",
   "execution_count": 23,
   "id": "50771a91",
   "metadata": {},
   "outputs": [
    {
     "data": {
      "text/plain": [
       "m    2931\n",
       "f     935\n",
       "Name: Gender, dtype: int64"
      ]
     },
     "execution_count": 23,
     "metadata": {},
     "output_type": "execute_result"
    },
    {
     "data": {
      "image/png": "[encoded data removed]",
      "text/plain": [
       "<Figure size 432x288 with 1 Axes>"
      ]
     },
     "metadata": {
      "needs_background": "light"
     },
     "output_type": "display_data"
    }
   ],
   "source": [
    "sns.countplot(df.Gender)\n",
    "df['Gender'].value_counts()"
   ]
  },
  {
   "cell_type": "markdown",
   "id": "df988e00",
   "metadata": {},
   "source": [
    "#### Date of Birth (Age)"
   ]
  },
  {
   "cell_type": "code",
   "execution_count": 24,
   "id": "83f27107",
   "metadata": {},
   "outputs": [],
   "source": [
    "today = pd.Timestamp(date.today())\n",
    "df['Age'] = ((today-df['DOB']).dt.days//365)"
   ]
  },
  {
   "cell_type": "code",
   "execution_count": 25,
   "id": "b12eeeac",
   "metadata": {},
   "outputs": [
    {
     "data": {
      "text/plain": [
       "<AxesSubplot:xlabel='Age', ylabel='count'>"
      ]
     },
     "execution_count": 25,
     "metadata": {},
     "output_type": "execute_result"
    },
    {
     "data": {
      "image/png": "[encoded data removed]",
      "text/plain": [
       "<Figure size 432x288 with 1 Axes>"
      ]
     },
     "metadata": {
      "needs_background": "light"
     },
     "output_type": "display_data"
    }
   ],
   "source": [
    "sns.countplot(df['Age'])"
   ]
  },
  {
   "cell_type": "code",
   "execution_count": 26,
   "id": "65913b8e",
   "metadata": {},
   "outputs": [
    {
     "data": {
      "text/plain": [
       "<AxesSubplot:xlabel='Age', ylabel='count'>"
      ]
     },
     "execution_count": 26,
     "metadata": {},
     "output_type": "execute_result"
    },
    {
     "data": {
      "image/png": "[encoded data removed]",
      "text/plain": [
       "<Figure size 432x288 with 1 Axes>"
      ]
     },
     "metadata": {
      "needs_background": "light"
     },
     "output_type": "display_data"
    }
   ],
   "source": [
    "sns.countplot(df.Age[df['DOL']=='present'])"
   ]
  },
  {
   "cell_type": "markdown",
   "id": "8ba22995",
   "metadata": {},
   "source": [
    "#### 10th Percentage"
   ]
  },
  {
   "cell_type": "code",
   "execution_count": 27,
   "id": "aff8dda4",
   "metadata": {},
   "outputs": [
    {
     "name": "stdout",
     "output_type": "stream",
     "text": [
      "Minimum: 43.00%\n",
      "Maximum: 97.12%\n",
      "Mean % : 77.83\n"
     ]
    }
   ],
   "source": [
    "print(\"Minimum: {:.2f}%\".format(df['10percentage'].min()))\n",
    "print(\"Maximum: {:.2f}%\".format(df['10percentage'].max()))\n",
    "print(\"Mean % : {:.2f}\".format(df['10percentage'].mean()))"
   ]
  },
  {
   "cell_type": "code",
   "execution_count": 28,
   "id": "ef31276e",
   "metadata": {},
   "outputs": [
    {
     "data": {
      "text/plain": [
       "<AxesSubplot:xlabel='10percentage', ylabel='Count'>"
      ]
     },
     "execution_count": 28,
     "metadata": {},
     "output_type": "execute_result"
    },
    {
     "data": {
      "image/png": "[encoded data removed]",
      "text/plain": [
       "<Figure size 432x288 with 1 Axes>"
      ]
     },
     "metadata": {
      "needs_background": "light"
     },
     "output_type": "display_data"
    }
   ],
   "source": [
    "sns.histplot(df['10percentage'], kde=True)"
   ]
  },
  {
   "cell_type": "markdown",
   "id": "cce89eb9",
   "metadata": {},
   "source": [
    "#### 12 Graduation"
   ]
  },
  {
   "cell_type": "code",
   "execution_count": 29,
   "id": "52dd1d95",
   "metadata": {},
   "outputs": [
    {
     "data": {
      "text/plain": [
       "<AxesSubplot:xlabel='12graduation', ylabel='Count'>"
      ]
     },
     "execution_count": 29,
     "metadata": {},
     "output_type": "execute_result"
    },
    {
     "data": {
      "image/png": "[encoded data removed]",
      "text/plain": [
       "<Figure size 864x432 with 1 Axes>"
      ]
     },
     "metadata": {
      "needs_background": "light"
     },
     "output_type": "display_data"
    }
   ],
   "source": [
    "plt.figure(figsize=(12,6))\n",
    "sns.histplot(df['12graduation'], binwidth=1.0, kde=True)"
   ]
  },
  {
   "cell_type": "markdown",
   "id": "dbc1e7c6",
   "metadata": {},
   "source": [
    "#### 12 Percentage"
   ]
  },
  {
   "cell_type": "code",
   "execution_count": 30,
   "id": "aede1503",
   "metadata": {},
   "outputs": [
    {
     "name": "stdout",
     "output_type": "stream",
     "text": [
      "Minimum: 40.00%\n",
      "Maximum: 98.70%\n",
      "Mean % : 74.40\n"
     ]
    }
   ],
   "source": [
    "print(\"Minimum: {:.2f}%\".format(df['12percentage'].min()))\n",
    "print(\"Maximum: {:.2f}%\".format(df['12percentage'].max()))\n",
    "print(\"Mean % : {:.2f}\".format(df['12percentage'].mean()))"
   ]
  },
  {
   "cell_type": "code",
   "execution_count": 31,
   "id": "36820c68",
   "metadata": {},
   "outputs": [
    {
     "data": {
      "text/plain": [
       "<AxesSubplot:xlabel='12percentage', ylabel='Count'>"
      ]
     },
     "execution_count": 31,
     "metadata": {},
     "output_type": "execute_result"
    },
    {
     "data": {
      "image/png": "[encoded data removed]",
      "text/plain": [
       "<Figure size 432x288 with 1 Axes>"
      ]
     },
     "metadata": {
      "needs_background": "light"
     },
     "output_type": "display_data"
    }
   ],
   "source": [
    "sns.histplot(df['12percentage'], kde=True)"
   ]
  },
  {
   "cell_type": "markdown",
   "id": "fb33d223",
   "metadata": {},
   "source": [
    "#### College Tier"
   ]
  },
  {
   "cell_type": "code",
   "execution_count": 32,
   "id": "7b96bc18",
   "metadata": {},
   "outputs": [
    {
     "data": {
      "text/html": [
       "<div>\n",
       "<style scoped>\n",
       "    .dataframe tbody tr th:only-of-type {\n",
       "        vertical-align: middle;\n",
       "    }\n",
       "\n",
       "    .dataframe tbody tr th {\n",
       "        vertical-align: top;\n",
       "    }\n",
       "\n",
       "    .dataframe thead th {\n",
       "        text-align: right;\n",
       "    }\n",
       "</style>\n",
       "<table border=\"1\" class=\"dataframe\">\n",
       "  <thead>\n",
       "    <tr style=\"text-align: right;\">\n",
       "      <th></th>\n",
       "      <th>CollegeTier</th>\n",
       "    </tr>\n",
       "  </thead>\n",
       "  <tbody>\n",
       "    <tr>\n",
       "      <th>2</th>\n",
       "      <td>3607</td>\n",
       "    </tr>\n",
       "    <tr>\n",
       "      <th>1</th>\n",
       "      <td>259</td>\n",
       "    </tr>\n",
       "  </tbody>\n",
       "</table>\n",
       "</div>"
      ],
      "text/plain": [
       "   CollegeTier\n",
       "2         3607\n",
       "1          259"
      ]
     },
     "execution_count": 32,
     "metadata": {},
     "output_type": "execute_result"
    }
   ],
   "source": [
    "pd.DataFrame(df['CollegeTier'].value_counts())"
   ]
  },
  {
   "cell_type": "code",
   "execution_count": 33,
   "id": "6ced0311",
   "metadata": {
    "scrolled": true
   },
   "outputs": [
    {
     "data": {
      "text/plain": [
       "<AxesSubplot:xlabel='CollegeTier', ylabel='count'>"
      ]
     },
     "execution_count": 33,
     "metadata": {},
     "output_type": "execute_result"
    },
    {
     "data": {
      "image/png": "[encoded data removed]",
      "text/plain": [
       "<Figure size 432x288 with 1 Axes>"
      ]
     },
     "metadata": {
      "needs_background": "light"
     },
     "output_type": "display_data"
    }
   ],
   "source": [
    "sns.countplot(df['CollegeTier'])"
   ]
  },
  {
   "cell_type": "markdown",
   "id": "356a976f",
   "metadata": {},
   "source": [
    "#### Degree"
   ]
  },
  {
   "cell_type": "code",
   "execution_count": 34,
   "id": "3b29a179",
   "metadata": {},
   "outputs": [
    {
     "data": {
      "text/plain": [
       "<AxesSubplot:xlabel='Degree', ylabel='count'>"
      ]
     },
     "execution_count": 34,
     "metadata": {},
     "output_type": "execute_result"
    },
    {
     "data": {
      "image/png": "[encoded data removed]",
      "text/plain": [
       "<Figure size 432x288 with 1 Axes>"
      ]
     },
     "metadata": {
      "needs_background": "light"
     },
     "output_type": "display_data"
    }
   ],
   "source": [
    "sns.countplot(df.Degree)"
   ]
  },
  {
   "cell_type": "markdown",
   "id": "9b7851af",
   "metadata": {},
   "source": [
    "#### Specialization"
   ]
  },
  {
   "cell_type": "code",
   "execution_count": 35,
   "id": "38ba0464",
   "metadata": {},
   "outputs": [],
   "source": [
    "df.Specialization[df['Specialization'].isin(['computer application', 'computer engineering', 'computer networking', 'computer science', 'computer science & engineering', 'computer science and technology'])] = 'computer'\n",
    "df.Specialization[df['Specialization'].isin(['information science', 'information science engineering'])] = 'information technology'"
   ]
  },
  {
   "cell_type": "code",
   "execution_count": 36,
   "id": "bb4da2d7",
   "metadata": {
    "scrolled": false
   },
   "outputs": [
    {
     "data": {
      "text/plain": [
       "<AxesSubplot:xlabel='count', ylabel='Specialization'>"
      ]
     },
     "execution_count": 36,
     "metadata": {},
     "output_type": "execute_result"
    },
    {
     "data": {
      "image/png": "[encoded data removed]",
      "text/plain": [
       "<Figure size 864x432 with 1 Axes>"
      ]
     },
     "metadata": {
      "needs_background": "light"
     },
     "output_type": "display_data"
    }
   ],
   "source": [
    "#Plotting the Job City column\n",
    "plt.figure(figsize=(12,6))\n",
    "sns.countplot(y=df['Specialization'], data=df, order=df.Specialization.value_counts().iloc[:10].index)"
   ]
  },
  {
   "cell_type": "code",
   "execution_count": 37,
   "id": "3b3d40ab",
   "metadata": {},
   "outputs": [],
   "source": [
    "#### College GPA"
   ]
  },
  {
   "cell_type": "code",
   "execution_count": 38,
   "id": "8d92fa19",
   "metadata": {},
   "outputs": [
    {
     "data": {
      "text/plain": [
       "<AxesSubplot:xlabel='collegeGPA', ylabel='Count'>"
      ]
     },
     "execution_count": 38,
     "metadata": {},
     "output_type": "execute_result"
    },
    {
     "data": {
      "image/png": "[encoded data removed]",
      "text/plain": [
       "<Figure size 432x288 with 1 Axes>"
      ]
     },
     "metadata": {
      "needs_background": "light"
     },
     "output_type": "display_data"
    }
   ],
   "source": [
    "sns.histplot(df['collegeGPA'])"
   ]
  },
  {
   "cell_type": "code",
   "execution_count": 39,
   "id": "52885f1a",
   "metadata": {},
   "outputs": [],
   "source": [
    "df.collegeGPA[df['collegeGPA'] < 10] = df.collegeGPA[df['collegeGPA'] < 10].apply(lambda x: x*10)"
   ]
  },
  {
   "cell_type": "code",
   "execution_count": 40,
   "id": "2f63074e",
   "metadata": {},
   "outputs": [
    {
     "data": {
      "text/plain": [
       "<AxesSubplot:xlabel='collegeGPA', ylabel='Count'>"
      ]
     },
     "execution_count": 40,
     "metadata": {},
     "output_type": "execute_result"
    },
    {
     "data": {
      "image/png": "[encoded data removed]",
      "text/plain": [
       "<Figure size 432x288 with 1 Axes>"
      ]
     },
     "metadata": {
      "needs_background": "light"
     },
     "output_type": "display_data"
    }
   ],
   "source": [
    "sns.histplot(df['collegeGPA'], kde=True)"
   ]
  },
  {
   "cell_type": "markdown",
   "id": "ae8f4868",
   "metadata": {},
   "source": [
    "#### College State"
   ]
  },
  {
   "cell_type": "code",
   "execution_count": 41,
   "id": "3ebfd98e",
   "metadata": {
    "scrolled": false
   },
   "outputs": [
    {
     "data": {
      "text/plain": [
       "<AxesSubplot:xlabel='count', ylabel='CollegeState'>"
      ]
     },
     "execution_count": 41,
     "metadata": {},
     "output_type": "execute_result"
    },
    {
     "data": {
      "image/png": "[encoded data removed]",
      "text/plain": [
       "<Figure size 864x432 with 1 Axes>"
      ]
     },
     "metadata": {
      "needs_background": "light"
     },
     "output_type": "display_data"
    }
   ],
   "source": [
    "#Plotting the Job City column\n",
    "plt.figure(figsize=(12,6))\n",
    "sns.countplot(y=df['CollegeState'], data=df, order=df.CollegeState.value_counts().iloc[:10].index)"
   ]
  },
  {
   "cell_type": "markdown",
   "id": "c7e847e8",
   "metadata": {},
   "source": [
    "#### Graduation Year"
   ]
  },
  {
   "cell_type": "code",
   "execution_count": 42,
   "id": "8d700c1e",
   "metadata": {},
   "outputs": [],
   "source": [
    "df.GraduationYear[df.GraduationYear == 0] = 2014"
   ]
  },
  {
   "cell_type": "code",
   "execution_count": 43,
   "id": "02291700",
   "metadata": {},
   "outputs": [
    {
     "data": {
      "text/plain": [
       "<AxesSubplot:xlabel='GraduationYear', ylabel='count'>"
      ]
     },
     "execution_count": 43,
     "metadata": {},
     "output_type": "execute_result"
    },
    {
     "data": {
      "image/png": "[encoded data removed]",
      "text/plain": [
       "<Figure size 432x288 with 1 Axes>"
      ]
     },
     "metadata": {
      "needs_background": "light"
     },
     "output_type": "display_data"
    }
   ],
   "source": [
    "sns.countplot(df.GraduationYear)"
   ]
  },
  {
   "cell_type": "markdown",
   "id": "36bcf317",
   "metadata": {},
   "source": [
    "#### Score in English"
   ]
  },
  {
   "cell_type": "code",
   "execution_count": 44,
   "id": "fc1f22bf",
   "metadata": {},
   "outputs": [
    {
     "name": "stdout",
     "output_type": "stream",
     "text": [
      "Minimum:  180\n",
      "Maximum:  875\n",
      "Mean   :  500.60\n"
     ]
    }
   ],
   "source": [
    "print(\"Minimum: \", df['English'].min())\n",
    "print(\"Maximum: \", df['English'].max())\n",
    "print(\"Mean   :  {:.2f}\".format(df['English'].mean()))"
   ]
  },
  {
   "cell_type": "code",
   "execution_count": 45,
   "id": "99af4702",
   "metadata": {},
   "outputs": [
    {
     "data": {
      "text/plain": [
       "<AxesSubplot:xlabel='English', ylabel='Count'>"
      ]
     },
     "execution_count": 45,
     "metadata": {},
     "output_type": "execute_result"
    },
    {
     "data": {
      "image/png": "[encoded data removed]",
      "text/plain": [
       "<Figure size 432x288 with 1 Axes>"
      ]
     },
     "metadata": {
      "needs_background": "light"
     },
     "output_type": "display_data"
    }
   ],
   "source": [
    "sns.histplot(df.English, kde=True)"
   ]
  },
  {
   "cell_type": "markdown",
   "id": "0d5424d3",
   "metadata": {},
   "source": [
    "#### Logical"
   ]
  },
  {
   "cell_type": "code",
   "execution_count": 46,
   "id": "7f7c4694",
   "metadata": {},
   "outputs": [
    {
     "name": "stdout",
     "output_type": "stream",
     "text": [
      "Minimum:  195\n",
      "Maximum:  795\n",
      "Mean   :  500.72\n"
     ]
    }
   ],
   "source": [
    "print(\"Minimum: \", df['Logical'].min())\n",
    "print(\"Maximum: \", df['Logical'].max())\n",
    "print(\"Mean   :  {:.2f}\".format(df['Logical'].mean()))"
   ]
  },
  {
   "cell_type": "code",
   "execution_count": 47,
   "id": "96202fc4",
   "metadata": {},
   "outputs": [
    {
     "data": {
      "text/plain": [
       "<AxesSubplot:xlabel='Logical', ylabel='Count'>"
      ]
     },
     "execution_count": 47,
     "metadata": {},
     "output_type": "execute_result"
    },
    {
     "data": {
      "image/png": "[encoded data removed]",
      "text/plain": [
       "<Figure size 432x288 with 1 Axes>"
      ]
     },
     "metadata": {
      "needs_background": "light"
     },
     "output_type": "display_data"
    }
   ],
   "source": [
    "sns.histplot(df.Logical, kde=True)"
   ]
  },
  {
   "cell_type": "markdown",
   "id": "6570e8d1",
   "metadata": {},
   "source": [
    "### Bi-Variate Analysis"
   ]
  },
  {
   "cell_type": "code",
   "execution_count": null,
   "id": "804ca543",
   "metadata": {},
   "outputs": [],
   "source": []
  }
 ],
 "metadata": {
  "kernelspec": {
   "display_name": "Python 3 (ipykernel)",
   "language": "python",
   "name": "python3"
  },
  "language_info": {
   "codemirror_mode": {
    "name": "ipython",
    "version": 3
   },
   "file_extension": ".py",
   "mimetype": "text/x-python",
   "name": "python",
   "nbconvert_exporter": "python",
   "pygments_lexer": "ipython3",
   "version": "3.9.5"
  }
 },
 "nbformat": 4,
 "nbformat_minor": 5
}
