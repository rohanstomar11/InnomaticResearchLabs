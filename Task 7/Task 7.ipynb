{
 "cells": [
  {
   "cell_type": "markdown",
   "id": "2713a0fe",
   "metadata": {},
   "source": [
    "# Descriptive Statistics and Python Implementation"
   ]
  },
  {
   "cell_type": "code",
   "execution_count": 1,
   "id": "50efecee",
   "metadata": {},
   "outputs": [
    {
     "name": "stdout",
     "output_type": "stream",
     "text": [
      "Modules Imported Successfuly!\n"
     ]
    }
   ],
   "source": [
    "import statistics as stat\n",
    "import pandas as pd\n",
    "from scipy import stats\n",
    "from scipy.stats import pearsonr as pr\n",
    "import warnings\n",
    "import matplotlib.pyplot as plt\n",
    "import seaborn as sns\n",
    "import numpy as np\n",
    "import statsmodels.api as sm\n",
    "import pylab as py\n",
    "warnings.filterwarnings('ignore')\n",
    "\n",
    "print(\"Modules Imported Successfuly!\")"
   ]
  },
  {
   "cell_type": "code",
   "execution_count": 2,
   "id": "bc05bc74",
   "metadata": {},
   "outputs": [
    {
     "name": "stdout",
     "output_type": "stream",
     "text": [
      "Data Imported!\n"
     ]
    }
   ],
   "source": [
    "df = pd.read_csv('data.csv')\n",
    "\n",
    "print('Data Imported!')"
   ]
  },
  {
   "cell_type": "code",
   "execution_count": 3,
   "id": "f6a69320",
   "metadata": {},
   "outputs": [
    {
     "data": {
      "text/html": [
       "<div>\n",
       "<style scoped>\n",
       "    .dataframe tbody tr th:only-of-type {\n",
       "        vertical-align: middle;\n",
       "    }\n",
       "\n",
       "    .dataframe tbody tr th {\n",
       "        vertical-align: top;\n",
       "    }\n",
       "\n",
       "    .dataframe thead th {\n",
       "        text-align: right;\n",
       "    }\n",
       "</style>\n",
       "<table border=\"1\" class=\"dataframe\">\n",
       "  <thead>\n",
       "    <tr style=\"text-align: right;\">\n",
       "      <th></th>\n",
       "      <th>Mthly_HH_Income</th>\n",
       "      <th>Mthly_HH_Expense</th>\n",
       "      <th>No_of_Fly_Members</th>\n",
       "      <th>Emi_or_Rent_Amt</th>\n",
       "      <th>Annual_HH_Income</th>\n",
       "      <th>Highest_Qualified_Member</th>\n",
       "      <th>No_of_Earning_Members</th>\n",
       "    </tr>\n",
       "  </thead>\n",
       "  <tbody>\n",
       "    <tr>\n",
       "      <th>0</th>\n",
       "      <td>5000</td>\n",
       "      <td>8000</td>\n",
       "      <td>3</td>\n",
       "      <td>2000</td>\n",
       "      <td>64200</td>\n",
       "      <td>Under-Graduate</td>\n",
       "      <td>1</td>\n",
       "    </tr>\n",
       "    <tr>\n",
       "      <th>1</th>\n",
       "      <td>6000</td>\n",
       "      <td>7000</td>\n",
       "      <td>2</td>\n",
       "      <td>3000</td>\n",
       "      <td>79920</td>\n",
       "      <td>Illiterate</td>\n",
       "      <td>1</td>\n",
       "    </tr>\n",
       "    <tr>\n",
       "      <th>2</th>\n",
       "      <td>10000</td>\n",
       "      <td>4500</td>\n",
       "      <td>2</td>\n",
       "      <td>0</td>\n",
       "      <td>112800</td>\n",
       "      <td>Under-Graduate</td>\n",
       "      <td>1</td>\n",
       "    </tr>\n",
       "    <tr>\n",
       "      <th>3</th>\n",
       "      <td>10000</td>\n",
       "      <td>2000</td>\n",
       "      <td>1</td>\n",
       "      <td>0</td>\n",
       "      <td>97200</td>\n",
       "      <td>Illiterate</td>\n",
       "      <td>1</td>\n",
       "    </tr>\n",
       "    <tr>\n",
       "      <th>4</th>\n",
       "      <td>12500</td>\n",
       "      <td>12000</td>\n",
       "      <td>2</td>\n",
       "      <td>3000</td>\n",
       "      <td>147000</td>\n",
       "      <td>Graduate</td>\n",
       "      <td>1</td>\n",
       "    </tr>\n",
       "  </tbody>\n",
       "</table>\n",
       "</div>"
      ],
      "text/plain": [
       "   Mthly_HH_Income  Mthly_HH_Expense  No_of_Fly_Members  Emi_or_Rent_Amt  \\\n",
       "0             5000              8000                  3             2000   \n",
       "1             6000              7000                  2             3000   \n",
       "2            10000              4500                  2                0   \n",
       "3            10000              2000                  1                0   \n",
       "4            12500             12000                  2             3000   \n",
       "\n",
       "   Annual_HH_Income Highest_Qualified_Member  No_of_Earning_Members  \n",
       "0             64200           Under-Graduate                      1  \n",
       "1             79920               Illiterate                      1  \n",
       "2            112800           Under-Graduate                      1  \n",
       "3             97200               Illiterate                      1  \n",
       "4            147000                 Graduate                      1  "
      ]
     },
     "execution_count": 3,
     "metadata": {},
     "output_type": "execute_result"
    }
   ],
   "source": [
    "df.head()"
   ]
  },
  {
   "cell_type": "markdown",
   "id": "360eeede",
   "metadata": {},
   "source": [
    "## Mean"
   ]
  },
  {
   "cell_type": "markdown",
   "id": "5eb11bf6",
   "metadata": {},
   "source": [
    "A **Mean** is the simple mathematical average of a set of two or more numbers."
   ]
  },
  {
   "cell_type": "markdown",
   "id": "6bd65e5a",
   "metadata": {},
   "source": [
    "$$ \\mu = \\frac{1}{n}\\sum_ix_i $$"
   ]
  },
  {
   "cell_type": "code",
   "execution_count": 4,
   "id": "482be4e3",
   "metadata": {},
   "outputs": [
    {
     "name": "stdout",
     "output_type": "stream",
     "text": [
      "Mean:  41558.0\n"
     ]
    }
   ],
   "source": [
    "mean = sum(df.Mthly_HH_Income)/len(df.Mthly_HH_Income)\n",
    "\n",
    "print(\"Mean: \",mean)"
   ]
  },
  {
   "cell_type": "code",
   "execution_count": 5,
   "id": "d09eb1f6",
   "metadata": {},
   "outputs": [
    {
     "name": "stdout",
     "output_type": "stream",
     "text": [
      "Mean:  41558\n"
     ]
    }
   ],
   "source": [
    "print(\"Mean: \",stat.mean(df.Mthly_HH_Income))"
   ]
  },
  {
   "cell_type": "markdown",
   "id": "b32ed37b",
   "metadata": {},
   "source": [
    "## Median"
   ]
  },
  {
   "cell_type": "markdown",
   "id": "b8571501",
   "metadata": {},
   "source": [
    "The **Median** is the middle number in a sorted, ascending or descending, list of numbers. It can be more descriptive of that data set than the average."
   ]
  },
  {
   "cell_type": "code",
   "execution_count": 6,
   "id": "31ead64e",
   "metadata": {},
   "outputs": [
    {
     "name": "stdout",
     "output_type": "stream",
     "text": [
      "Median:  447420.0\n"
     ]
    }
   ],
   "source": [
    "print(\"Median: \",stat.median(df.Annual_HH_Income))"
   ]
  },
  {
   "cell_type": "markdown",
   "id": "73e03fd0",
   "metadata": {},
   "source": [
    "## Mode"
   ]
  },
  {
   "cell_type": "markdown",
   "id": "e9d2e696",
   "metadata": {},
   "source": [
    "The **Mode** is the value that appears most frequently in a data set.  \n",
    "A set of data may have one mode, more than one mode, or no mode at all."
   ]
  },
  {
   "cell_type": "code",
   "execution_count": 7,
   "id": "16a811f3",
   "metadata": {},
   "outputs": [
    {
     "name": "stdout",
     "output_type": "stream",
     "text": [
      "Mode:  4\n"
     ]
    }
   ],
   "source": [
    "print(\"Mode: \",stat.mode(df.No_of_Fly_Members))"
   ]
  },
  {
   "cell_type": "markdown",
   "id": "35886f42",
   "metadata": {},
   "source": [
    "## Variance"
   ]
  },
  {
   "cell_type": "markdown",
   "id": "c418a7c9",
   "metadata": {},
   "source": [
    "The **Variance** refers to a statistical measurement of the spread between numbers in a data set."
   ]
  },
  {
   "cell_type": "markdown",
   "id": "7ea94fb0",
   "metadata": {},
   "source": [
    "$$ \\sigma^2 = \\frac{1}{n}\\sum_i(x_i-\\mu)^2 $$"
   ]
  },
  {
   "cell_type": "code",
   "execution_count": 8,
   "id": "c554c88b",
   "metadata": {},
   "outputs": [
    {
     "name": "stdout",
     "output_type": "stream",
     "text": [
      "Variance of Annual Household Income:  102486925397.91672\n"
     ]
    }
   ],
   "source": [
    "print(\"Variance of Annual Household Income: \",stat.variance(df.Annual_HH_Income))"
   ]
  },
  {
   "cell_type": "markdown",
   "id": "80f57eb8",
   "metadata": {},
   "source": [
    "## Standard Deviation"
   ]
  },
  {
   "cell_type": "markdown",
   "id": "fd69af36",
   "metadata": {},
   "source": [
    "A **Standard Deviation** is a statistic that measures the dispersion of a dataset relative to its mean."
   ]
  },
  {
   "cell_type": "code",
   "execution_count": 9,
   "id": "4cb11414",
   "metadata": {},
   "outputs": [
    {
     "name": "stdout",
     "output_type": "stream",
     "text": [
      "Standard Deviation of Annual Household Income:  320135.7921225253\n"
     ]
    }
   ],
   "source": [
    "print(\"Standard Deviation of Annual Household Income: \",stat.stdev(df.Annual_HH_Income))"
   ]
  },
  {
   "cell_type": "markdown",
   "id": "65da029f",
   "metadata": {},
   "source": [
    "## Correlation"
   ]
  },
  {
   "cell_type": "markdown",
   "id": "c2c5232a",
   "metadata": {},
   "source": [
    "**Correlation** coefficients are indicators of the strength of the linear relationship between two different variables, x and y.  \n",
    "- Linear correlation coefficient that is greater than zero indicates a positive relationship.  \n",
    "- A value that is less than zero signifies a negative relationship.  \n",
    "- Finally, a value of zero indicates no relationship between the two variables x and y."
   ]
  },
  {
   "cell_type": "code",
   "execution_count": 10,
   "id": "899f2d9a",
   "metadata": {},
   "outputs": [
    {
     "name": "stdout",
     "output_type": "stream",
     "text": [
      "Pearsons correlation: 0.970\n"
     ]
    }
   ],
   "source": [
    "corr, _ = pr(df.Mthly_HH_Income, df.Annual_HH_Income)\n",
    "print('Pearsons correlation: %.3f' % corr)"
   ]
  },
  {
   "cell_type": "markdown",
   "id": "47bcf1dc",
   "metadata": {},
   "source": [
    "## Normal Distribution"
   ]
  },
  {
   "cell_type": "markdown",
   "id": "b0702012",
   "metadata": {},
   "source": [
    "**Normal Distribution** is a probability distribution that is symmetric about the mean, showing that data near the mean are more frequent in occurrence than data far from the mean.  \n",
    "In graph form, normal distribution will appear as a bell curve."
   ]
  },
  {
   "cell_type": "code",
   "execution_count": 11,
   "id": "7fcdff89",
   "metadata": {},
   "outputs": [
    {
     "data": {
      "image/png": "[encoded data removed]",
      "text/plain": [
       "<Figure size 432x288 with 1 Axes>"
      ]
     },
     "metadata": {
      "needs_background": "light"
     },
     "output_type": "display_data"
    }
   ],
   "source": [
    "\n",
    "sns.kdeplot(np.random.normal(size=1000))\n",
    "\n",
    "plt.show()"
   ]
  },
  {
   "cell_type": "markdown",
   "id": "06199df8",
   "metadata": {},
   "source": [
    "## Feature of Normal Distribution"
   ]
  },
  {
   "cell_type": "markdown",
   "id": "afbcd07e",
   "metadata": {},
   "source": [
    "- The mean, median and mode are exactly the same.\n",
    "- The distribution is symmetric about the mean—half the values fall below the mean and half above the mean.\n",
    "- The distribution can be described by two values: the mean and the standard deviation.\n",
    "- Mean, median, mode, and standard deviation in a normal distribution.\n",
    "- The mean is the location parameter while the standard deviation is the scale parameter.\n",
    "- The mean determines where the peak of the curve is centered.\n",
    "- Increasing the mean moves the curve right, while decreasing it moves the curve left.\n",
    "- The standard deviation stretches or squeezes the curve.\n",
    "- A small standard deviation results in a narrow curve, while a large standard deviation leads to a wide curve."
   ]
  },
  {
   "cell_type": "markdown",
   "id": "5e9f07c4",
   "metadata": {},
   "source": [
    "## Positively Skewed & Negatively Skewed Normal Distribution"
   ]
  },
  {
   "cell_type": "markdown",
   "id": "f7669fd0",
   "metadata": {},
   "source": [
    "A **Positively Skewed** (or right-skewed) distribution is a type of distribution in which most values are clustered around the left tail of the distribution while the right tail of the distribution is longer."
   ]
  },
  {
   "cell_type": "code",
   "execution_count": 12,
   "id": "3e28ca2c",
   "metadata": {},
   "outputs": [
    {
     "data": {
      "text/plain": [
       "<AxesSubplot:xlabel='No_of_Earning_Members', ylabel='Density'>"
      ]
     },
     "execution_count": 12,
     "metadata": {},
     "output_type": "execute_result"
    },
    {
     "data": {
      "image/png": "[encoded data removed]",
      "text/plain": [
       "<Figure size 432x288 with 1 Axes>"
      ]
     },
     "metadata": {
      "needs_background": "light"
     },
     "output_type": "display_data"
    }
   ],
   "source": [
    "sns.kdeplot(df.No_of_Earning_Members)"
   ]
  },
  {
   "cell_type": "markdown",
   "id": "a158ebf6",
   "metadata": {},
   "source": [
    "A **Negatively Skewed** (also known as left-skewed) distribution is a type of distribution in which more values are concentrated on the right side (tail) of the distribution graph while the left tail of the distribution graph is longer."
   ]
  },
  {
   "cell_type": "code",
   "execution_count": 13,
   "id": "9c864257",
   "metadata": {},
   "outputs": [
    {
     "data": {
      "text/plain": [
       "<AxesSubplot:xlabel='Emi_or_Rent_Amt', ylabel='Density'>"
      ]
     },
     "execution_count": 13,
     "metadata": {},
     "output_type": "execute_result"
    },
    {
     "data": {
      "image/png": "[encoded data removed]",
      "text/plain": [
       "<Figure size 432x288 with 1 Axes>"
      ]
     },
     "metadata": {
      "needs_background": "light"
     },
     "output_type": "display_data"
    }
   ],
   "source": [
    "sns.kdeplot(np.log((df.Emi_or_Rent_Amt)-900))"
   ]
  },
  {
   "cell_type": "markdown",
   "id": "a431cf25",
   "metadata": {},
   "source": [
    "- The positively skewed distribution is a direct opposite of the negatively skewed distribution."
   ]
  },
  {
   "cell_type": "markdown",
   "id": "341c7c6a",
   "metadata": {},
   "source": [
    "## Effect on Mean, Median and Mode due to Skewness"
   ]
  },
  {
   "cell_type": "code",
   "execution_count": 14,
   "id": "954c2647",
   "metadata": {},
   "outputs": [
    {
     "data": {
      "text/plain": [
       "<AxesSubplot:ylabel='Count'>"
      ]
     },
     "execution_count": 14,
     "metadata": {},
     "output_type": "execute_result"
    },
    {
     "data": {
      "image/png": "[encoded data removed]",
      "text/plain": [
       "<Figure size 432x288 with 1 Axes>"
      ]
     },
     "metadata": {
      "needs_background": "light"
     },
     "output_type": "display_data"
    }
   ],
   "source": [
    "a = [4,5,6,6,6,7,7,7,7,7,8,8,8,9,10]\n",
    "sns.histplot(a)"
   ]
  },
  {
   "cell_type": "code",
   "execution_count": 15,
   "id": "f6d786da",
   "metadata": {},
   "outputs": [
    {
     "name": "stdout",
     "output_type": "stream",
     "text": [
      "Mean:  7\n",
      "Median:  7\n",
      "Mode:  7\n"
     ]
    }
   ],
   "source": [
    "print(\"Mean: \", stat.mean(a))\n",
    "print(\"Median: \", stat.median(a))\n",
    "print(\"Mode: \", stat.mode(a))"
   ]
  },
  {
   "cell_type": "markdown",
   "id": "ef206136",
   "metadata": {},
   "source": [
    "- This is a perfectly symmetrical distribution of data.  \n",
    "- The mean, mode and median is same."
   ]
  },
  {
   "cell_type": "code",
   "execution_count": 16,
   "id": "acb79fcf",
   "metadata": {},
   "outputs": [
    {
     "data": {
      "text/plain": [
       "<AxesSubplot:ylabel='Count'>"
      ]
     },
     "execution_count": 16,
     "metadata": {},
     "output_type": "execute_result"
    },
    {
     "data": {
      "image/png": "[encoded data removed]",
      "text/plain": [
       "<Figure size 432x288 with 1 Axes>"
      ]
     },
     "metadata": {
      "needs_background": "light"
     },
     "output_type": "display_data"
    }
   ],
   "source": [
    "a_right = [4,5,6,6,6,7,7,7,7,8]\n",
    "sns.histplot(a_right)"
   ]
  },
  {
   "cell_type": "code",
   "execution_count": 17,
   "id": "4fe9c88b",
   "metadata": {},
   "outputs": [
    {
     "name": "stdout",
     "output_type": "stream",
     "text": [
      "Mean:  6.3\n",
      "Median:  6.5\n",
      "Mode:  7\n"
     ]
    }
   ],
   "source": [
    "print(\"Mean: \", stat.mean(a_right))\n",
    "print(\"Median: \", stat.median(a_right))\n",
    "print(\"Mode: \", stat.mode(a_right))"
   ]
  },
  {
   "cell_type": "markdown",
   "id": "55b6009c",
   "metadata": {},
   "source": [
    "- This is a left skewed distribution of data.  \n",
    "- The mean is less than median and they both in turn are less than mode."
   ]
  },
  {
   "cell_type": "code",
   "execution_count": 18,
   "id": "c93f8f9b",
   "metadata": {
    "scrolled": true
   },
   "outputs": [
    {
     "data": {
      "text/plain": [
       "<AxesSubplot:ylabel='Count'>"
      ]
     },
     "execution_count": 18,
     "metadata": {},
     "output_type": "execute_result"
    },
    {
     "data": {
      "image/png": "[encoded data removed]",
      "text/plain": [
       "<Figure size 432x288 with 1 Axes>"
      ]
     },
     "metadata": {
      "needs_background": "light"
     },
     "output_type": "display_data"
    }
   ],
   "source": [
    "a_left = [6,7,7,7,7,8,8,8,9,10]\n",
    "sns.histplot(a_left)"
   ]
  },
  {
   "cell_type": "code",
   "execution_count": 19,
   "id": "0cfbea5d",
   "metadata": {},
   "outputs": [
    {
     "name": "stdout",
     "output_type": "stream",
     "text": [
      "Mean:  7.7\n",
      "Median:  7.5\n",
      "Mode:  7\n"
     ]
    }
   ],
   "source": [
    "print(\"Mean: \", stat.mean(a_left))\n",
    "print(\"Median: \", stat.median(a_left))\n",
    "print(\"Mode: \", stat.mode(a_left))"
   ]
  },
  {
   "cell_type": "markdown",
   "id": "55e03f42",
   "metadata": {},
   "source": [
    "- This is a right skewed distribution of data.  \n",
    "- The mean is greater than median and they both in turn are greater than mode."
   ]
  },
  {
   "cell_type": "markdown",
   "id": "de56ffac",
   "metadata": {},
   "source": [
    "## Explain QQ Plot and show the implementation of the same"
   ]
  },
  {
   "cell_type": "markdown",
   "id": "8144047f",
   "metadata": {},
   "source": [
    "The quantile-quantile (q-q) plot is a graphical technique for determining if two data sets come from populations with a common distribution."
   ]
  },
  {
   "cell_type": "markdown",
   "id": "c0e20679",
   "metadata": {},
   "source": [
    "A 45-degree reference line is also plotted.  \n",
    "If the two sets come from a population with the same distribution, the points should fall approximately along this reference line.  \n",
    "The greater the departure from this reference line, the greater the evidence for the conclusion that the two data sets have come from populations with different distributions."
   ]
  },
  {
   "cell_type": "code",
   "execution_count": 20,
   "id": "0001dbaa",
   "metadata": {},
   "outputs": [
    {
     "data": {
      "image/png": "[encoded data removed]",
      "text/plain": [
       "<Figure size 432x288 with 1 Axes>"
      ]
     },
     "metadata": {
      "needs_background": "light"
     },
     "output_type": "display_data"
    }
   ],
   "source": [
    "data_points = np.random.normal(0, 1, 100)    \n",
    "  \n",
    "sm.qqplot(data_points, line ='45')\n",
    "py.show()"
   ]
  },
  {
   "cell_type": "markdown",
   "id": "d9497462",
   "metadata": {},
   "source": [
    "## Explain Box Cox and show the implementation of the same"
   ]
  },
  {
   "cell_type": "markdown",
   "id": "aed7277e",
   "metadata": {},
   "source": [
    "A Box Cox transformation is a transformation of non-normal dependent variables into a normal shape."
   ]
  },
  {
   "cell_type": "code",
   "execution_count": 21,
   "id": "3655f312",
   "metadata": {},
   "outputs": [],
   "source": [
    "original_data = np.random.exponential(size = 1000)\n",
    "  \n",
    "\n",
    "fitted_data, fitted_lambda = stats.boxcox(original_data)"
   ]
  },
  {
   "cell_type": "code",
   "execution_count": 22,
   "id": "22c8cf57",
   "metadata": {},
   "outputs": [
    {
     "name": "stdout",
     "output_type": "stream",
     "text": [
      "Lambda value used for Transformation: 0.26678642329976304\n"
     ]
    },
    {
     "data": {
      "image/png": "[encoded data removed]",
      "text/plain": [
       "<Figure size 720x360 with 2 Axes>"
      ]
     },
     "metadata": {
      "needs_background": "light"
     },
     "output_type": "display_data"
    }
   ],
   "source": [
    "fig, ax = plt.subplots(1, 2)\n",
    "\n",
    "sns.distplot(original_data, hist = False, kde = True,\n",
    "            kde_kws = {'shade': True, 'linewidth': 2}, \n",
    "            label = \"Non-Normal\", color =\"green\", ax = ax[0])\n",
    "\n",
    "sns.distplot(fitted_data, hist = False, kde = True,\n",
    "            kde_kws = {'shade': True, 'linewidth': 2}, \n",
    "            label = \"Normal\", color =\"green\", ax = ax[1])\n",
    "\n",
    "plt.legend(loc = \"upper right\")\n",
    "\n",
    "fig.set_figheight(5)\n",
    "fig.set_figwidth(10)\n",
    "  \n",
    "print(f\"Lambda value used for Transformation: {fitted_lambda}\")"
   ]
  }
 ],
 "metadata": {
  "kernelspec": {
   "display_name": "Python 3 (ipykernel)",
   "language": "python",
   "name": "python3"
  },
  "language_info": {
   "codemirror_mode": {
    "name": "ipython",
    "version": 3
   },
   "file_extension": ".py",
   "mimetype": "text/x-python",
   "name": "python",
   "nbconvert_exporter": "python",
   "pygments_lexer": "ipython3",
   "version": "3.9.5"
  }
 },
 "nbformat": 4,
 "nbformat_minor": 5
}
